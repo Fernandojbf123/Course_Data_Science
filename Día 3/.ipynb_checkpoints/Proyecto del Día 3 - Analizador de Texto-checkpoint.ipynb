{
 "cells": [
  {
   "cell_type": "markdown",
   "id": "9572445f",
   "metadata": {},
   "source": [
    "# Proyecto del Día 3: Analizador de Texto\n",
    "\n",
    "Este proyecto tiene como objetivo aplicar los conceptos aprendidos sobre strings, input, indexación y formateo de strings en Python. El programa permitirá al usuario ingresar un texto y luego elegir realizar diversas operaciones de análisis sobre ese texto.\n",
    "\n",
    "## Consigna\n",
    "Vas a crear un programa que le pida al usuario que ingrese un texto de al menos 10 palabras. Tu programa va a procesar ese texto, lo va a procesar, y le va a devolver un análisis detallado, que incluya:\n",
    "1. Contar el número total de caracteres en el texto\n",
    "2. Contar el número de caracteres sin incluir los espacios\n",
    "3. Contar la cantidad de vocales que hay en el texto\n",
    "4. Contar el número total de palabras en el texto ingresado\n",
    "\n",
    "**nota**: para resolver los siguientes items, deberás investigar otros métodos de strings que no hemos visto. Recuerda valerte de *type*, *dir* y *help*\n",
    "\n",
    "5. Eliminar la primera palabra\n",
    "6. Reemplazar todos los espacios por guiones medios (-)\n",
    "8. Cambia las mayúsculas a minúsculas y las minúsculas a mayúsculas \n",
    "\n",
    "Al finalizar el procesamiento, se imprimirán 8 cadenas literales mostrando los resultados del análisis (una cadena por cada resultado).\n",
    "<br>\n",
    "<br>\n",
    "<br>"
   ]
  },
  {
   "cell_type": "markdown",
   "id": "e5cd9e4d",
   "metadata": {},
   "source": [
    "### Resolución\n",
    "\n",
    "Ingreso del usuario:"
   ]
  },
  {
   "cell_type": "code",
   "execution_count": 20,
   "id": "fa27da8c",
   "metadata": {},
   "outputs": [
    {
     "name": "stdin",
     "output_type": "stream",
     "text": [
      "ingresa un texto que tenga al menos 10 palabras 1 2 3 4 5 6 7 8 9 10\n"
     ]
    },
    {
     "name": "stdout",
     "output_type": "stream",
     "text": [
      "9\n"
     ]
    },
    {
     "ename": "KeyboardInterrupt",
     "evalue": "Interrupted by user",
     "output_type": "error",
     "traceback": [
      "\u001b[1;31m---------------------------------------------------------------------------\u001b[0m",
      "\u001b[1;31mKeyboardInterrupt\u001b[0m                         Traceback (most recent call last)",
      "Cell \u001b[1;32mIn[20], line 3\u001b[0m\n\u001b[0;32m      1\u001b[0m cantidad_de_palabras \u001b[38;5;241m=\u001b[39m \u001b[38;5;241m0\u001b[39m\n\u001b[0;32m      2\u001b[0m \u001b[38;5;28;01mwhile\u001b[39;00m cantidad_de_palabras \u001b[38;5;241m<\u001b[39m \u001b[38;5;241m10\u001b[39m:\n\u001b[1;32m----> 3\u001b[0m     texto \u001b[38;5;241m=\u001b[39m \u001b[38;5;28minput\u001b[39m(\u001b[38;5;124m\"\u001b[39m\u001b[38;5;124mingresa un texto que tenga al menos 10 palabras\u001b[39m\u001b[38;5;124m\"\u001b[39m)\n\u001b[0;32m      4\u001b[0m     cantidad_de_palabras \u001b[38;5;241m=\u001b[39m texto\u001b[38;5;241m.\u001b[39mstrip()\u001b[38;5;241m.\u001b[39mcount(\u001b[38;5;124m\"\u001b[39m\u001b[38;5;124m \u001b[39m\u001b[38;5;124m\"\u001b[39m)\n\u001b[0;32m      5\u001b[0m     \u001b[38;5;28mprint\u001b[39m(cantidad_de_palabras)\n",
      "File \u001b[1;32m~\\anaconda3\\Lib\\site-packages\\ipykernel\\kernelbase.py:1262\u001b[0m, in \u001b[0;36mKernel.raw_input\u001b[1;34m(self, prompt)\u001b[0m\n\u001b[0;32m   1260\u001b[0m     msg \u001b[38;5;241m=\u001b[39m \u001b[38;5;124m\"\u001b[39m\u001b[38;5;124mraw_input was called, but this frontend does not support input requests.\u001b[39m\u001b[38;5;124m\"\u001b[39m\n\u001b[0;32m   1261\u001b[0m     \u001b[38;5;28;01mraise\u001b[39;00m StdinNotImplementedError(msg)\n\u001b[1;32m-> 1262\u001b[0m \u001b[38;5;28;01mreturn\u001b[39;00m \u001b[38;5;28mself\u001b[39m\u001b[38;5;241m.\u001b[39m_input_request(\n\u001b[0;32m   1263\u001b[0m     \u001b[38;5;28mstr\u001b[39m(prompt),\n\u001b[0;32m   1264\u001b[0m     \u001b[38;5;28mself\u001b[39m\u001b[38;5;241m.\u001b[39m_parent_ident[\u001b[38;5;124m\"\u001b[39m\u001b[38;5;124mshell\u001b[39m\u001b[38;5;124m\"\u001b[39m],\n\u001b[0;32m   1265\u001b[0m     \u001b[38;5;28mself\u001b[39m\u001b[38;5;241m.\u001b[39mget_parent(\u001b[38;5;124m\"\u001b[39m\u001b[38;5;124mshell\u001b[39m\u001b[38;5;124m\"\u001b[39m),\n\u001b[0;32m   1266\u001b[0m     password\u001b[38;5;241m=\u001b[39m\u001b[38;5;28;01mFalse\u001b[39;00m,\n\u001b[0;32m   1267\u001b[0m )\n",
      "File \u001b[1;32m~\\anaconda3\\Lib\\site-packages\\ipykernel\\kernelbase.py:1305\u001b[0m, in \u001b[0;36mKernel._input_request\u001b[1;34m(self, prompt, ident, parent, password)\u001b[0m\n\u001b[0;32m   1302\u001b[0m \u001b[38;5;28;01mexcept\u001b[39;00m \u001b[38;5;167;01mKeyboardInterrupt\u001b[39;00m:\n\u001b[0;32m   1303\u001b[0m     \u001b[38;5;66;03m# re-raise KeyboardInterrupt, to truncate traceback\u001b[39;00m\n\u001b[0;32m   1304\u001b[0m     msg \u001b[38;5;241m=\u001b[39m \u001b[38;5;124m\"\u001b[39m\u001b[38;5;124mInterrupted by user\u001b[39m\u001b[38;5;124m\"\u001b[39m\n\u001b[1;32m-> 1305\u001b[0m     \u001b[38;5;28;01mraise\u001b[39;00m \u001b[38;5;167;01mKeyboardInterrupt\u001b[39;00m(msg) \u001b[38;5;28;01mfrom\u001b[39;00m \u001b[38;5;28;01mNone\u001b[39;00m\n\u001b[0;32m   1306\u001b[0m \u001b[38;5;28;01mexcept\u001b[39;00m \u001b[38;5;167;01mException\u001b[39;00m:\n\u001b[0;32m   1307\u001b[0m     \u001b[38;5;28mself\u001b[39m\u001b[38;5;241m.\u001b[39mlog\u001b[38;5;241m.\u001b[39mwarning(\u001b[38;5;124m\"\u001b[39m\u001b[38;5;124mInvalid Message:\u001b[39m\u001b[38;5;124m\"\u001b[39m, exc_info\u001b[38;5;241m=\u001b[39m\u001b[38;5;28;01mTrue\u001b[39;00m)\n",
      "\u001b[1;31mKeyboardInterrupt\u001b[0m: Interrupted by user"
     ]
    }
   ],
   "source": [
    "cantidad_de_palabras = 0\n",
    "while cantidad_de_palabras < 10:\n",
    "    texto = input(\"ingresa un texto que tenga al menos 10 palabras\")\n",
    "    cantidad_de_palabras = texto.strip()\n",
    "    print(cantidad_de_palabras)"
   ]
  },
  {
   "cell_type": "markdown",
   "id": "41214377",
   "metadata": {},
   "source": [
    "1. Contar el número total de caracteres en el texto"
   ]
  },
  {
   "cell_type": "code",
   "execution_count": 12,
   "id": "40448873",
   "metadata": {},
   "outputs": [
    {
     "name": "stdout",
     "output_type": "stream",
     "text": [
      "20\n"
     ]
    }
   ],
   "source": [
    "print(len(texto))"
   ]
  },
  {
   "cell_type": "markdown",
   "id": "3d6378dc",
   "metadata": {},
   "source": [
    "2. Contar el número de caracteres sin incluir los espacios"
   ]
  },
  {
   "cell_type": "code",
   "execution_count": 15,
   "id": "991b29c7",
   "metadata": {},
   "outputs": [
    {
     "name": "stdout",
     "output_type": "stream",
     "text": [
      "12345678910\n",
      "11\n"
     ]
    }
   ],
   "source": [
    "texto_sin_espacios = texto.replace(\" \",\"\")\n",
    "print(texto_sin_espacios)\n",
    "print(len(texto_sin_espacios))"
   ]
  },
  {
   "cell_type": "markdown",
   "id": "c6e62385",
   "metadata": {},
   "source": [
    "3. Contar la cantidad de vocales que hay en el texto"
   ]
  },
  {
   "cell_type": "code",
   "execution_count": 18,
   "id": "65b19bc7",
   "metadata": {},
   "outputs": [
    {
     "name": "stdout",
     "output_type": "stream",
     "text": [
      "0\n"
     ]
    }
   ],
   "source": [
    "cantidad_de_vocales = texto.count(\"a\") + texto.count(\"e\") + texto.count(\"i\") + texto.count(\"o\") + texto.count(\"u\")\n",
    "print(cantidad_de_vocales)"
   ]
  },
  {
   "cell_type": "markdown",
   "id": "4b6211c5",
   "metadata": {},
   "source": [
    "4. Contar el número total de palabras en el texto ingresado"
   ]
  },
  {
   "cell_type": "code",
   "execution_count": null,
   "id": "5b6eb1b1",
   "metadata": {},
   "outputs": [],
   "source": []
  },
  {
   "cell_type": "markdown",
   "id": "bee5597e",
   "metadata": {},
   "source": [
    "5. Eliminar la primera palabra"
   ]
  },
  {
   "cell_type": "code",
   "execution_count": null,
   "id": "8bcbfe9d",
   "metadata": {},
   "outputs": [],
   "source": []
  },
  {
   "cell_type": "markdown",
   "id": "d5b05440",
   "metadata": {},
   "source": [
    "6. Reemplazar todos los espacios por guiones medios (-)"
   ]
  },
  {
   "cell_type": "code",
   "execution_count": null,
   "id": "90a21e61",
   "metadata": {},
   "outputs": [],
   "source": []
  },
  {
   "cell_type": "markdown",
   "id": "8a61c508",
   "metadata": {},
   "source": [
    "7. Cambia las mayúsculas a minúsculas y las minúsculas a mayúsculas"
   ]
  },
  {
   "cell_type": "code",
   "execution_count": null,
   "id": "8cb35aaf",
   "metadata": {},
   "outputs": [],
   "source": []
  },
  {
   "cell_type": "markdown",
   "id": "66b8d816",
   "metadata": {},
   "source": [
    "Muéstrale al usuario los resultados del análisis de su texto."
   ]
  },
  {
   "cell_type": "code",
   "execution_count": null,
   "id": "eb0d449a",
   "metadata": {},
   "outputs": [],
   "source": []
  }
 ],
 "metadata": {
  "kernelspec": {
   "display_name": "Python [conda env:base] *",
   "language": "python",
   "name": "conda-base-py"
  },
  "language_info": {
   "codemirror_mode": {
    "name": "ipython",
    "version": 3
   },
   "file_extension": ".py",
   "mimetype": "text/x-python",
   "name": "python",
   "nbconvert_exporter": "python",
   "pygments_lexer": "ipython3",
   "version": "3.12.7"
  }
 },
 "nbformat": 4,
 "nbformat_minor": 5
}

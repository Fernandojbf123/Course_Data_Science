{
 "cells": [
  {
   "cell_type": "code",
   "execution_count": 26,
   "id": "79395668-477a-4e62-b502-54545530268f",
   "metadata": {},
   "outputs": [],
   "source": [
    "import pandas as pd\n",
    "import numpy as np\n",
    "import time"
   ]
  },
  {
   "cell_type": "code",
   "execution_count": 27,
   "id": "dff935c5-34b9-4b9c-8de3-8ae89ca3e266",
   "metadata": {},
   "outputs": [],
   "source": [
    "lista_grande = list(range(0,1000000,1))\n",
    "array_grande = np.array(list(range(0,1000000,1)))"
   ]
  },
  {
   "cell_type": "code",
   "execution_count": 28,
   "id": "f4b27fd0-a58a-40cd-9283-c17196c2dd29",
   "metadata": {},
   "outputs": [
    {
     "name": "stdout",
     "output_type": "stream",
     "text": [
      "0.10996890068054199\n"
     ]
    }
   ],
   "source": [
    "inicio = time.time()\n",
    "lista_grande_cuadrado = [numero**2 for numero in lista_grande]\n",
    "fin = time.time()\n",
    "print(fin-inicio)"
   ]
  },
  {
   "cell_type": "code",
   "execution_count": 29,
   "id": "edb3c7d9-8e9a-45ba-8000-48bf3591ee9d",
   "metadata": {},
   "outputs": [
    {
     "name": "stdout",
     "output_type": "stream",
     "text": [
      "0.003001689910888672\n"
     ]
    }
   ],
   "source": [
    "inicio = time.time()\n",
    "array_grande_cuadrado = array_grande**2\n",
    "fin = time.time()\n",
    "print(fin-inicio)"
   ]
  },
  {
   "cell_type": "code",
   "execution_count": null,
   "id": "9f13e4cc-fe72-4dac-876c-2d6cc3271877",
   "metadata": {},
   "outputs": [],
   "source": []
  }
 ],
 "metadata": {
  "kernelspec": {
   "display_name": "Python [conda env:base] *",
   "language": "python",
   "name": "conda-base-py"
  },
  "language_info": {
   "codemirror_mode": {
    "name": "ipython",
    "version": 3
   },
   "file_extension": ".py",
   "mimetype": "text/x-python",
   "name": "python",
   "nbconvert_exporter": "python",
   "pygments_lexer": "ipython3",
   "version": "3.12.7"
  }
 },
 "nbformat": 4,
 "nbformat_minor": 5
}

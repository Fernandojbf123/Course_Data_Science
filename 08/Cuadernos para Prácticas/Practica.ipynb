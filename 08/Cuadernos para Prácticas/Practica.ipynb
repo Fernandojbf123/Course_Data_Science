{
 "cells": [
  {
   "cell_type": "code",
   "execution_count": 194,
   "id": "aae9c205-2a20-4d87-a05b-5806b47dcf38",
   "metadata": {},
   "outputs": [],
   "source": [
    "import numpy as np\n",
    "import pandas as pd\n",
    "import time"
   ]
  },
  {
   "cell_type": "code",
   "execution_count": 5,
   "id": "6001b309-1e03-474d-8bef-289fe6a30512",
   "metadata": {},
   "outputs": [],
   "source": [
    "datos = {\n",
    "    \"Ciudad\": [\"Ciudad de México\", \"Buenos Aires\", \"Río de Janeiro\", \"Lima\", \"Bogotá\", \"Santiago de Chile\", \"São Paulo\", \"La Habana\", \"Cancún\", \"Cartagena\"],\n",
    "    \"País\": [\"México\", \"Argentina\", \"Brasil\", \"Perú\", \"Colombia\", \"Chile\", \"Brasil\", \"Cuba\", \"México\", \"Colombia\"],\n",
    "    \"Población\": [9265833, 3059574, 6748314, 9756020, 7181663, 6199241, 12333146, 2164182, 888124, 1036671],\n",
    "    \"Visitantes\": [21000000, 15000000, 13000000, 9000000, 8000000, 7500000, 20000000, 4000000, 5000000, 3000000]\n",
    "}"
   ]
  },
  {
   "cell_type": "code",
   "execution_count": 12,
   "id": "4e838738-90d0-4b1a-9c31-c0dcface9de4",
   "metadata": {},
   "outputs": [
    {
     "data": {
      "text/plain": [
       "5863277.0"
      ]
     },
     "execution_count": 12,
     "metadata": {},
     "output_type": "execute_result"
    }
   ],
   "source": [
    "serie = pd.Series(datos[\"Población\"])\n",
    "promedio_redondeado = np.round(serie.mean(),decimals=0)\n",
    "promedio_redondeado"
   ]
  },
  {
   "cell_type": "code",
   "execution_count": 13,
   "id": "1f14a31d-4896-4bb0-9f75-dbebc112df69",
   "metadata": {},
   "outputs": [
    {
     "data": {
      "text/plain": [
       "888124"
      ]
     },
     "execution_count": 13,
     "metadata": {},
     "output_type": "execute_result"
    }
   ],
   "source": [
    "minimo = np.min(serie)\n",
    "minimo"
   ]
  },
  {
   "cell_type": "code",
   "execution_count": 14,
   "id": "d53ddb25-1277-49a2-b023-6b69d354aa4a",
   "metadata": {},
   "outputs": [
    {
     "data": {
      "text/plain": [
       "array([ 1,  2,  3,  4,  5,  6,  7,  8,  9, 10])"
      ]
     },
     "execution_count": 14,
     "metadata": {},
     "output_type": "execute_result"
    }
   ],
   "source": [
    "array1 = np.array(list(range(1,6)))\n",
    "array2 = np.array(list(range(6,11)))\n",
    "\n",
    "array_concatenado = np.concatenate([array1,array2])\n",
    "array_concatenado\n"
   ]
  },
  {
   "cell_type": "code",
   "execution_count": 28,
   "id": "ad168eb8-39c3-4c0d-9a8c-de1c8ad40e65",
   "metadata": {},
   "outputs": [],
   "source": [
    "array_original = np.array(list(range(1,7)))\n",
    "array_reshaped = array_original.reshape(2,3)"
   ]
  },
  {
   "cell_type": "code",
   "execution_count": 29,
   "id": "6402808e-7391-44f8-b93c-91075d87dec0",
   "metadata": {},
   "outputs": [
    {
     "data": {
      "text/plain": [
       "array([[1, 2, 3],\n",
       "       [4, 5, 6]])"
      ]
     },
     "execution_count": 29,
     "metadata": {},
     "output_type": "execute_result"
    }
   ],
   "source": [
    "array_reshaped"
   ]
  },
  {
   "cell_type": "code",
   "execution_count": 30,
   "id": "424dfd12-a5ff-4f42-b277-ed0153e0db76",
   "metadata": {},
   "outputs": [],
   "source": [
    "array_original = np.array([[1,2,3],[4,5,6]])"
   ]
  },
  {
   "cell_type": "code",
   "execution_count": 33,
   "id": "39fc3419-9200-4c28-acf8-d1d4781a1316",
   "metadata": {},
   "outputs": [
    {
     "data": {
      "text/plain": [
       "array([1, 2, 3, 4, 5, 6])"
      ]
     },
     "execution_count": 33,
     "metadata": {},
     "output_type": "execute_result"
    }
   ],
   "source": [
    "array_aplanado = array_original.flatten()\n",
    "array_aplanado"
   ]
  },
  {
   "cell_type": "code",
   "execution_count": 35,
   "id": "095f931c-4201-4a99-af3c-9f12730995c5",
   "metadata": {},
   "outputs": [
    {
     "data": {
      "text/plain": [
       "array([ 2,  4,  6,  8, 10, 12, 14, 16, 18, 20])"
      ]
     },
     "execution_count": 35,
     "metadata": {},
     "output_type": "execute_result"
    }
   ],
   "source": [
    "suma = array_concatenado + array_concatenado\n",
    "suma"
   ]
  },
  {
   "cell_type": "code",
   "execution_count": 41,
   "id": "bbe2a0a4-6983-41cb-bdc1-e2f2b2329a93",
   "metadata": {},
   "outputs": [
    {
     "data": {
      "text/plain": [
       "array([ 1,  2,  3,  4,  5,  6,  7,  8,  9, 10])"
      ]
     },
     "execution_count": 41,
     "metadata": {},
     "output_type": "execute_result"
    }
   ],
   "source": [
    "transpuesto = array_concatenado.transpose()\n",
    "transpuesto\n"
   ]
  },
  {
   "cell_type": "code",
   "execution_count": 42,
   "id": "0a03c9f4-9435-4a1b-83bd-3e54f005d4ac",
   "metadata": {},
   "outputs": [
    {
     "data": {
      "text/plain": [
       "array([  1,   4,   9,  16,  25,  36,  49,  64,  81, 100])"
      ]
     },
     "execution_count": 42,
     "metadata": {},
     "output_type": "execute_result"
    }
   ],
   "source": [
    "np.multiply(array_concatenado,transpuesto)"
   ]
  },
  {
   "cell_type": "code",
   "execution_count": 43,
   "id": "871fdc47-5e8b-40ac-a903-40b7e2cdd66f",
   "metadata": {},
   "outputs": [],
   "source": [
    "A = np.array(list(range(1,10,2)))\n",
    "B = np.array([[10],[20],[30],[40],[50]])"
   ]
  },
  {
   "cell_type": "code",
   "execution_count": 46,
   "id": "60941a58-d631-4fc2-9d12-91e12ff7591f",
   "metadata": {},
   "outputs": [
    {
     "data": {
      "text/plain": [
       "array([[11, 13, 15, 17, 19],\n",
       "       [21, 23, 25, 27, 29],\n",
       "       [31, 33, 35, 37, 39],\n",
       "       [41, 43, 45, 47, 49],\n",
       "       [51, 53, 55, 57, 59]])"
      ]
     },
     "execution_count": 46,
     "metadata": {},
     "output_type": "execute_result"
    }
   ],
   "source": [
    "resultado = np.add(A,B)\n",
    "resultado"
   ]
  },
  {
   "cell_type": "code",
   "execution_count": 45,
   "id": "1342dbea-bcdd-4a86-86ea-a1533dd1b19d",
   "metadata": {},
   "outputs": [
    {
     "data": {
      "text/plain": [
       "array([1, 3, 5, 7, 9])"
      ]
     },
     "execution_count": 45,
     "metadata": {},
     "output_type": "execute_result"
    }
   ],
   "source": []
  },
  {
   "cell_type": "code",
   "execution_count": 12,
   "id": "4f77f17f-681b-4d32-a79c-0cb19973e8b1",
   "metadata": {},
   "outputs": [],
   "source": [
    "lista_grande = list(range(0,1000000,1))\n",
    "array_grande = np.array(list(range(0,1000000,1)))"
   ]
  },
  {
   "cell_type": "code",
   "execution_count": 13,
   "id": "96934294-97d6-4793-aeda-8d717b705ffb",
   "metadata": {},
   "outputs": [
    {
     "name": "stdout",
     "output_type": "stream",
     "text": [
      "0.12701725959777832\n"
     ]
    }
   ],
   "source": [
    "inicio = time.time()\n",
    "lista_grande_cuadrado = [numero**2 for numero in lista_grande]\n",
    "fin = time.time()\n",
    "print(fin-inicio)"
   ]
  },
  {
   "cell_type": "code",
   "execution_count": 14,
   "id": "fbaac7cb-736b-4cb7-9ce9-fd5dad38387c",
   "metadata": {},
   "outputs": [
    {
     "name": "stdout",
     "output_type": "stream",
     "text": [
      "0.04377555847167969\n"
     ]
    }
   ],
   "source": [
    "inicio = time.time()\n",
    "array_grande_cuadrado = array_grande**2\n",
    "fin = time.time()\n",
    "print(fin-inicio)"
   ]
  },
  {
   "cell_type": "code",
   "execution_count": 170,
   "id": "751edacd-245f-4784-b11d-da885b3045f3",
   "metadata": {},
   "outputs": [],
   "source": [
    "array = np.genfromtxt('medallas.csv',delimiter=',', skip_header=1)"
   ]
  },
  {
   "cell_type": "code",
   "execution_count": 182,
   "id": "36abac14-fa24-48e4-a84d-e7041eebf47a",
   "metadata": {},
   "outputs": [],
   "source": [
    "array_arreglado = array[:,0:4]"
   ]
  },
  {
   "cell_type": "code",
   "execution_count": 184,
   "id": "de440b1d-c706-4020-bf91-7901deb564b6",
   "metadata": {},
   "outputs": [
    {
     "data": {
      "text/plain": [
       "array([], shape=(0, 4), dtype=float64)"
      ]
     },
     "execution_count": 184,
     "metadata": {},
     "output_type": "execute_result"
    }
   ],
   "source": [
    "# SE INTENTÓ HACER UN CICLO FOR PARA ELIMINAR NANS POR CADA COLUMNA Y LUEGO JUNTAR LAS COLUMNAS\n",
    "# ESTO FUE UN FRACASO!!\n",
    "idx_nans = np.array([],dtype=int)\n",
    "for col in range(len(array_arreglado[0])):\n",
    "    tmp_a = array_sin_nans[:,col]\n",
    "    tmp_b = np.where(np.isnan(tmp_a))[0]\n",
    "    idx_nans = np.concatenate([idx_nans,tmp_b])\n",
    "idx_nans = np.unique(idx_nans)\n",
    "array_sin_nans = array_arreglado[~idx_nans,:]\n",
    "array_sin_nans"
   ]
  },
  {
   "cell_type": "code",
   "execution_count": 179,
   "id": "2219e220-6e41-4022-a967-2d71d8058488",
   "metadata": {},
   "outputs": [
    {
     "data": {
      "text/plain": [
       "array([[ 17.,   7.,  22.,  46.],\n",
       "       [  1.,   1.,   5.,   7.],\n",
       "       [  1.,   3.,   3.,   7.],\n",
       "       [  3.,   1.,   3.,   7.],\n",
       "       [  7.,   6.,   8.,  21.],\n",
       "       [  3.,   1.,   2.,   6.],\n",
       "       [  7.,   6.,  11.,  24.],\n",
       "       [  2.,   4.,   6.,  12.],\n",
       "       [  3.,   3.,   2.,   8.],\n",
       "       [  7.,   3.,   5.,  15.],\n",
       "       [  4.,   4.,   3.,  11.],\n",
       "       [  3.,   4.,   4.,  11.],\n",
       "       [  1.,   1.,   4.,   6.],\n",
       "       [ 39.,  41.,  33., 113.],\n",
       "       [  1.,   1.,   2.,   4.],\n",
       "       [  1.,  12.,  11.,  33.],\n",
       "       [  2.,   5.,   1.,   8.],\n",
       "       [  1.,  11.,  16.,  37.],\n",
       "       [ 22.,  21.,  22.,  65.],\n",
       "       [  2.,   1.,   1.,   4.],\n",
       "       [  6.,   7.,   7.,   2.],\n",
       "       [  1.,   2.,   4.,   7.],\n",
       "       [  1.,   1.,   3.,   5.],\n",
       "       [  3.,   2.,   2.,   7.],\n",
       "       [  1.,   1.,   2.,   4.],\n",
       "       [  4.,   1.,   4.,   9.],\n",
       "       [ 27.,  14.,  17.,  58.],\n",
       "       [  4.,   4.,   2.,   1.],\n",
       "       [  1.,  12.,  14.,  36.],\n",
       "       [  7.,   6.,   7.,   2.],\n",
       "       [  4.,   2.,   2.,   8.],\n",
       "       [  1.,   2.,   1.,   4.],\n",
       "       [  4.,   5.,   5.,  14.],\n",
       "       [  1.,   1.,   2.,   4.],\n",
       "       [  6.,   4.,   1.,   2.],\n",
       "       [ 38.,  32.,  18.,  88.],\n",
       "       [  2.,  28.,  23.,  71.],\n",
       "       [  3.,   1.,   5.,   9.],\n",
       "       [  1.,   2.,   1.,   4.],\n",
       "       [  3.,   1.,   1.,   5.],\n",
       "       [  3.,   8.,   6.,  17.],\n",
       "       [  3.,   4.,   6.,  13.],\n",
       "       [  2.,   2.,   9.,  13.],\n",
       "       [  2.,   1.,   1.,   4.],\n",
       "       [  1.,   6.,  12.,  19.]])"
      ]
     },
     "execution_count": 179,
     "metadata": {},
     "output_type": "execute_result"
    }
   ],
   "source": [
    "# EXISTE UNA FORMA DIRECTA PARA ELIMINAR LOS NANS DE CADA FILA DE UN ARRAY 2D\n",
    "array_sin_nans = array_arreglado[~np.isnan(array_arreglado).any(axis=1)]\n",
    "array_sin_nans"
   ]
  },
  {
   "cell_type": "code",
   "execution_count": 90,
   "id": "58602fe2-a560-49da-b9ab-8a8fbc742683",
   "metadata": {},
   "outputs": [],
   "source": [
    "array = np.array([3, np.nan, 7, np.nan, 0, 4.5, np.nan])\n",
    "sustituir_nans = np.where(np.isnan(array))\n",
    "sustituir_nans"
   ]
  },
  {
   "cell_type": "code",
   "execution_count": 185,
   "id": "7c2bb31b-fca0-4866-ac6c-8bb7405736e3",
   "metadata": {},
   "outputs": [],
   "source": [
    "resultados = np.array([[1, 2, 3], [4, 5, 6], [7, 8, 9]])\n",
    "np.savetxt('resultados_finales.csv',resultados,delimiter=\",\",fmt=\"%d\")"
   ]
  },
  {
   "cell_type": "code",
   "execution_count": 188,
   "id": "8fed8b22-30e2-4c0a-aa62-4804ad1f437c",
   "metadata": {},
   "outputs": [],
   "source": [
    "df = pd.DataFrame({\n",
    "    \"Nombre\": [\"Fernando\",\"Miriam\"],\n",
    "    \"Edad\":[40, 39]\n",
    "})"
   ]
  },
  {
   "cell_type": "code",
   "execution_count": 190,
   "id": "03928eb5-e115-4c0b-a122-14fe886fc396",
   "metadata": {},
   "outputs": [
    {
     "data": {
      "text/plain": [
       "array([['Fernando', 40],\n",
       "       ['Miriam', 39]], dtype=object)"
      ]
     },
     "execution_count": 190,
     "metadata": {},
     "output_type": "execute_result"
    }
   ],
   "source": [
    "prueba = df.to_numpy()\n",
    "prueba"
   ]
  },
  {
   "cell_type": "code",
   "execution_count": 213,
   "id": "1a76b51e-7166-4ddf-9845-af0747ad65d3",
   "metadata": {},
   "outputs": [],
   "source": [
    "mi_dataframe = pd.DataFrame({\n",
    "    \"Frutas\": [\"Manzana\",\"Banana\",\"Cereza\"],\n",
    "    \"Cantidad\":[5,8,3]\n",
    "}) \n",
    "\n",
    "mi_dataframe_filtrado = mi_dataframe[mi_dataframe[\"Cantidad\"] > 4]"
   ]
  },
  {
   "cell_type": "code",
   "execution_count": 215,
   "id": "6ed69f5c-1c3e-4278-85b7-82cfad183c54",
   "metadata": {},
   "outputs": [
    {
     "data": {
      "text/plain": [
       "array([['Manzana', 5],\n",
       "       ['Banana', 8]], dtype=object)"
      ]
     },
     "execution_count": 215,
     "metadata": {},
     "output_type": "execute_result"
    }
   ],
   "source": [
    "array_filtrado = mi_dataframe_filtrado.to_numpy()\n",
    "array_filtrado"
   ]
  },
  {
   "cell_type": "code",
   "execution_count": 222,
   "id": "f256991a-e315-4307-9e02-80f7577c2a5a",
   "metadata": {},
   "outputs": [
    {
     "data": {
      "text/plain": [
       "array([[10, 40],\n",
       "       [20, 50],\n",
       "       [30, 60]])"
      ]
     },
     "execution_count": 222,
     "metadata": {},
     "output_type": "execute_result"
    }
   ],
   "source": [
    "mi_array = np.array([[10,40],[20,50],[30,60]])\n",
    "mi_array"
   ]
  },
  {
   "cell_type": "code",
   "execution_count": 225,
   "id": "a6b0120a-e7da-4d91-ba57-a5ce99d4d69d",
   "metadata": {},
   "outputs": [
    {
     "data": {
      "text/html": [
       "<div>\n",
       "<style scoped>\n",
       "    .dataframe tbody tr th:only-of-type {\n",
       "        vertical-align: middle;\n",
       "    }\n",
       "\n",
       "    .dataframe tbody tr th {\n",
       "        vertical-align: top;\n",
       "    }\n",
       "\n",
       "    .dataframe thead th {\n",
       "        text-align: right;\n",
       "    }\n",
       "</style>\n",
       "<table border=\"1\" class=\"dataframe\">\n",
       "  <thead>\n",
       "    <tr style=\"text-align: right;\">\n",
       "      <th></th>\n",
       "      <th>Decenas</th>\n",
       "      <th>Centenas</th>\n",
       "    </tr>\n",
       "  </thead>\n",
       "  <tbody>\n",
       "    <tr>\n",
       "      <th>0</th>\n",
       "      <td>10</td>\n",
       "      <td>40</td>\n",
       "    </tr>\n",
       "    <tr>\n",
       "      <th>1</th>\n",
       "      <td>20</td>\n",
       "      <td>50</td>\n",
       "    </tr>\n",
       "    <tr>\n",
       "      <th>2</th>\n",
       "      <td>30</td>\n",
       "      <td>60</td>\n",
       "    </tr>\n",
       "  </tbody>\n",
       "</table>\n",
       "</div>"
      ],
      "text/plain": [
       "   Decenas  Centenas\n",
       "0       10        40\n",
       "1       20        50\n",
       "2       30        60"
      ]
     },
     "execution_count": 225,
     "metadata": {},
     "output_type": "execute_result"
    }
   ],
   "source": [
    "df_numeros = pd.DataFrame(mi_array,columns=[\"Decenas\",\"Centenas\"])\n",
    "df_numeros"
   ]
  },
  {
   "cell_type": "code",
   "execution_count": null,
   "id": "e04800cc-997d-4ac2-a6e5-407b2a644b17",
   "metadata": {},
   "outputs": [],
   "source": []
  }
 ],
 "metadata": {
  "kernelspec": {
   "display_name": "Python [conda env:base] *",
   "language": "python",
   "name": "conda-base-py"
  },
  "language_info": {
   "codemirror_mode": {
    "name": "ipython",
    "version": 3
   },
   "file_extension": ".py",
   "mimetype": "text/x-python",
   "name": "python",
   "nbconvert_exporter": "python",
   "pygments_lexer": "ipython3",
   "version": "3.12.7"
  }
 },
 "nbformat": 4,
 "nbformat_minor": 5
}

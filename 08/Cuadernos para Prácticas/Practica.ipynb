{
 "cells": [
  {
   "cell_type": "code",
   "execution_count": 3,
   "id": "aae9c205-2a20-4d87-a05b-5806b47dcf38",
   "metadata": {},
   "outputs": [],
   "source": [
    "import numpy as np\n",
    "import pandas as pd"
   ]
  },
  {
   "cell_type": "code",
   "execution_count": 5,
   "id": "6001b309-1e03-474d-8bef-289fe6a30512",
   "metadata": {},
   "outputs": [],
   "source": [
    "datos = {\n",
    "    \"Ciudad\": [\"Ciudad de México\", \"Buenos Aires\", \"Río de Janeiro\", \"Lima\", \"Bogotá\", \"Santiago de Chile\", \"São Paulo\", \"La Habana\", \"Cancún\", \"Cartagena\"],\n",
    "    \"País\": [\"México\", \"Argentina\", \"Brasil\", \"Perú\", \"Colombia\", \"Chile\", \"Brasil\", \"Cuba\", \"México\", \"Colombia\"],\n",
    "    \"Población\": [9265833, 3059574, 6748314, 9756020, 7181663, 6199241, 12333146, 2164182, 888124, 1036671],\n",
    "    \"Visitantes\": [21000000, 15000000, 13000000, 9000000, 8000000, 7500000, 20000000, 4000000, 5000000, 3000000]\n",
    "}"
   ]
  },
  {
   "cell_type": "code",
   "execution_count": 12,
   "id": "4e838738-90d0-4b1a-9c31-c0dcface9de4",
   "metadata": {},
   "outputs": [
    {
     "data": {
      "text/plain": [
       "5863277.0"
      ]
     },
     "execution_count": 12,
     "metadata": {},
     "output_type": "execute_result"
    }
   ],
   "source": [
    "serie = pd.Series(datos[\"Población\"])\n",
    "promedio_redondeado = np.round(serie.mean(),decimals=0)\n",
    "promedio_redondeado"
   ]
  },
  {
   "cell_type": "code",
   "execution_count": 13,
   "id": "1f14a31d-4896-4bb0-9f75-dbebc112df69",
   "metadata": {},
   "outputs": [
    {
     "data": {
      "text/plain": [
       "888124"
      ]
     },
     "execution_count": 13,
     "metadata": {},
     "output_type": "execute_result"
    }
   ],
   "source": [
    "minimo = np.min(serie)\n",
    "minimo"
   ]
  },
  {
   "cell_type": "code",
   "execution_count": 14,
   "id": "d53ddb25-1277-49a2-b023-6b69d354aa4a",
   "metadata": {},
   "outputs": [
    {
     "data": {
      "text/plain": [
       "array([ 1,  2,  3,  4,  5,  6,  7,  8,  9, 10])"
      ]
     },
     "execution_count": 14,
     "metadata": {},
     "output_type": "execute_result"
    }
   ],
   "source": [
    "array1 = np.array(list(range(1,6)))\n",
    "array2 = np.array(list(range(6,11)))\n",
    "\n",
    "array_concatenado = np.concatenate([array1,array2])\n",
    "array_concatenado\n"
   ]
  },
  {
   "cell_type": "code",
   "execution_count": 28,
   "id": "ad168eb8-39c3-4c0d-9a8c-de1c8ad40e65",
   "metadata": {},
   "outputs": [],
   "source": [
    "array_original = np.array(list(range(1,7)))\n",
    "array_reshaped = array_original.reshape(2,3)"
   ]
  },
  {
   "cell_type": "code",
   "execution_count": 29,
   "id": "6402808e-7391-44f8-b93c-91075d87dec0",
   "metadata": {},
   "outputs": [
    {
     "data": {
      "text/plain": [
       "array([[1, 2, 3],\n",
       "       [4, 5, 6]])"
      ]
     },
     "execution_count": 29,
     "metadata": {},
     "output_type": "execute_result"
    }
   ],
   "source": [
    "array_reshaped"
   ]
  },
  {
   "cell_type": "code",
   "execution_count": 30,
   "id": "424dfd12-a5ff-4f42-b277-ed0153e0db76",
   "metadata": {},
   "outputs": [],
   "source": [
    "array_original = np.array([[1,2,3],[4,5,6]])"
   ]
  },
  {
   "cell_type": "code",
   "execution_count": 33,
   "id": "39fc3419-9200-4c28-acf8-d1d4781a1316",
   "metadata": {},
   "outputs": [
    {
     "data": {
      "text/plain": [
       "array([1, 2, 3, 4, 5, 6])"
      ]
     },
     "execution_count": 33,
     "metadata": {},
     "output_type": "execute_result"
    }
   ],
   "source": [
    "array_aplanado = array_original.flatten()\n",
    "array_aplanado"
   ]
  },
  {
   "cell_type": "code",
   "execution_count": 35,
   "id": "095f931c-4201-4a99-af3c-9f12730995c5",
   "metadata": {},
   "outputs": [
    {
     "data": {
      "text/plain": [
       "array([ 2,  4,  6,  8, 10, 12, 14, 16, 18, 20])"
      ]
     },
     "execution_count": 35,
     "metadata": {},
     "output_type": "execute_result"
    }
   ],
   "source": [
    "suma = array_concatenado + array_concatenado\n",
    "suma"
   ]
  },
  {
   "cell_type": "code",
   "execution_count": 41,
   "id": "bbe2a0a4-6983-41cb-bdc1-e2f2b2329a93",
   "metadata": {},
   "outputs": [
    {
     "data": {
      "text/plain": [
       "array([ 1,  2,  3,  4,  5,  6,  7,  8,  9, 10])"
      ]
     },
     "execution_count": 41,
     "metadata": {},
     "output_type": "execute_result"
    }
   ],
   "source": [
    "transpuesto = array_concatenado.transpose()\n",
    "transpuesto\n"
   ]
  },
  {
   "cell_type": "code",
   "execution_count": 42,
   "id": "0a03c9f4-9435-4a1b-83bd-3e54f005d4ac",
   "metadata": {},
   "outputs": [
    {
     "data": {
      "text/plain": [
       "array([  1,   4,   9,  16,  25,  36,  49,  64,  81, 100])"
      ]
     },
     "execution_count": 42,
     "metadata": {},
     "output_type": "execute_result"
    }
   ],
   "source": [
    "np.multiply(array_concatenado,transpuesto)"
   ]
  },
  {
   "cell_type": "code",
   "execution_count": 43,
   "id": "871fdc47-5e8b-40ac-a903-40b7e2cdd66f",
   "metadata": {},
   "outputs": [],
   "source": [
    "A = np.array(list(range(1,10,2)))\n",
    "B = np.array([[10],[20],[30],[40],[50]])"
   ]
  },
  {
   "cell_type": "code",
   "execution_count": 46,
   "id": "60941a58-d631-4fc2-9d12-91e12ff7591f",
   "metadata": {},
   "outputs": [
    {
     "data": {
      "text/plain": [
       "array([[11, 13, 15, 17, 19],\n",
       "       [21, 23, 25, 27, 29],\n",
       "       [31, 33, 35, 37, 39],\n",
       "       [41, 43, 45, 47, 49],\n",
       "       [51, 53, 55, 57, 59]])"
      ]
     },
     "execution_count": 46,
     "metadata": {},
     "output_type": "execute_result"
    }
   ],
   "source": [
    "resultado = np.add(A,B)\n",
    "resultado"
   ]
  },
  {
   "cell_type": "code",
   "execution_count": 45,
   "id": "1342dbea-bcdd-4a86-86ea-a1533dd1b19d",
   "metadata": {},
   "outputs": [
    {
     "data": {
      "text/plain": [
       "array([1, 3, 5, 7, 9])"
      ]
     },
     "execution_count": 45,
     "metadata": {},
     "output_type": "execute_result"
    }
   ],
   "source": []
  },
  {
   "cell_type": "code",
   "execution_count": null,
   "id": "4f77f17f-681b-4d32-a79c-0cb19973e8b1",
   "metadata": {},
   "outputs": [],
   "source": []
  }
 ],
 "metadata": {
  "kernelspec": {
   "display_name": "Python [conda env:base] *",
   "language": "python",
   "name": "conda-base-py"
  },
  "language_info": {
   "codemirror_mode": {
    "name": "ipython",
    "version": 3
   },
   "file_extension": ".py",
   "mimetype": "text/x-python",
   "name": "python",
   "nbconvert_exporter": "python",
   "pygments_lexer": "ipython3",
   "version": "3.12.7"
  }
 },
 "nbformat": 4,
 "nbformat_minor": 5
}

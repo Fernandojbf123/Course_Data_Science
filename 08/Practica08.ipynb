{
 "cells": [
  {
   "cell_type": "code",
   "execution_count": 1,
   "id": "c2bccca8-487a-4152-91d7-b2e17039d237",
   "metadata": {},
   "outputs": [],
   "source": [
    "import numpy as np"
   ]
  },
  {
   "cell_type": "code",
   "execution_count": 2,
   "id": "0cd96864-f281-49f2-918a-bbcc5558d643",
   "metadata": {},
   "outputs": [
    {
     "data": {
      "text/plain": [
       "array([ 0,  2,  4,  6,  8, 10])"
      ]
     },
     "execution_count": 2,
     "metadata": {},
     "output_type": "execute_result"
    }
   ],
   "source": [
    "np.arange(0,11,2)"
   ]
  },
  {
   "cell_type": "code",
   "execution_count": 6,
   "id": "3e00c67b-3c00-4b4b-b86b-8eae8d8bf21a",
   "metadata": {},
   "outputs": [
    {
     "data": {
      "text/plain": [
       "array([[[0., 0., 0., 0., 0.],\n",
       "        [0., 0., 0., 0., 0.],\n",
       "        [0., 0., 0., 0., 0.],\n",
       "        [0., 0., 0., 0., 0.],\n",
       "        [0., 0., 0., 0., 0.]],\n",
       "\n",
       "       [[0., 0., 0., 0., 0.],\n",
       "        [0., 0., 0., 0., 0.],\n",
       "        [0., 0., 0., 0., 0.],\n",
       "        [0., 0., 0., 0., 0.],\n",
       "        [0., 0., 0., 0., 0.]],\n",
       "\n",
       "       [[0., 0., 0., 0., 0.],\n",
       "        [0., 0., 0., 0., 0.],\n",
       "        [0., 0., 0., 0., 0.],\n",
       "        [0., 0., 0., 0., 0.],\n",
       "        [0., 0., 0., 0., 0.]],\n",
       "\n",
       "       [[0., 0., 0., 0., 0.],\n",
       "        [0., 0., 0., 0., 0.],\n",
       "        [0., 0., 0., 0., 0.],\n",
       "        [0., 0., 0., 0., 0.],\n",
       "        [0., 0., 0., 0., 0.]],\n",
       "\n",
       "       [[0., 0., 0., 0., 0.],\n",
       "        [0., 0., 0., 0., 0.],\n",
       "        [0., 0., 0., 0., 0.],\n",
       "        [0., 0., 0., 0., 0.],\n",
       "        [0., 0., 0., 0., 0.]]])"
      ]
     },
     "execution_count": 6,
     "metadata": {},
     "output_type": "execute_result"
    }
   ],
   "source": [
    "np.zeros((5,5,5))"
   ]
  },
  {
   "cell_type": "code",
   "execution_count": 8,
   "id": "f22e6b18-51e5-4e8e-91dd-ca1f8c15f5e6",
   "metadata": {},
   "outputs": [
    {
     "data": {
      "text/plain": [
       "array([[-0.55130482,  0.08283125,  1.08480665, -0.44729942,  1.51423875],\n",
       "       [ 0.96482534, -1.34045317,  0.5830845 ,  0.19987291, -1.03301959],\n",
       "       [ 0.53946461,  1.82632427,  0.73161886,  0.95126725,  0.42755411],\n",
       "       [ 0.22444961,  0.62834799,  0.17128547,  0.12539593, -0.53481648],\n",
       "       [-0.01760294,  0.26301459, -0.10994081, -1.23422638, -0.03884739]])"
      ]
     },
     "execution_count": 8,
     "metadata": {},
     "output_type": "execute_result"
    }
   ],
   "source": [
    "np.random.randn(5,5)"
   ]
  },
  {
   "cell_type": "code",
   "execution_count": 27,
   "id": "20775fb9-6b54-4fb2-acde-913e6bb3b088",
   "metadata": {},
   "outputs": [],
   "source": [
    "r = np.random.randn(4,4)\n"
   ]
  },
  {
   "cell_type": "code",
   "execution_count": 28,
   "id": "d75a8b9f-ad4c-475e-8e62-9417647ca397",
   "metadata": {},
   "outputs": [
    {
     "data": {
      "text/plain": [
       "array([[-0.69403534, -1.50166477,  0.33603346, -1.82615091],\n",
       "       [ 0.51147046, -2.51179988, -0.1234874 ,  1.31666786],\n",
       "       [-1.07133403, -0.38901862,  1.168204  , -0.44424106],\n",
       "       [-0.92711379, -1.99452504,  1.38130699, -0.60210761]])"
      ]
     },
     "execution_count": 28,
     "metadata": {},
     "output_type": "execute_result"
    }
   ],
   "source": [
    "r"
   ]
  },
  {
   "cell_type": "code",
   "execution_count": 29,
   "id": "65b82a88-33a6-48e2-838a-2fe7622b962a",
   "metadata": {},
   "outputs": [
    {
     "data": {
      "text/plain": [
       "array([[-0.69403534,  0.51147046, -1.07133403, -0.92711379],\n",
       "       [-1.50166477, -2.51179988, -0.38901862, -1.99452504],\n",
       "       [ 0.33603346, -0.1234874 ,  1.168204  ,  1.38130699],\n",
       "       [-1.82615091,  1.31666786, -0.44424106, -0.60210761]])"
      ]
     },
     "execution_count": 29,
     "metadata": {},
     "output_type": "execute_result"
    }
   ],
   "source": [
    "r.T"
   ]
  },
  {
   "cell_type": "code",
   "execution_count": 32,
   "id": "3528327d-826b-4fb9-857b-d1b0771d7586",
   "metadata": {},
   "outputs": [
    {
     "data": {
      "text/plain": [
       "array([[-0.69403534,  0.51147046, -1.07133403, -0.92711379],\n",
       "       [-1.50166477, -2.51179988, -0.38901862, -1.99452504],\n",
       "       [ 0.33603346, -0.1234874 ,  1.168204  ,  1.38130699],\n",
       "       [-1.82615091,  1.31666786, -0.44424106, -0.60210761]])"
      ]
     },
     "execution_count": 32,
     "metadata": {},
     "output_type": "execute_result"
    }
   ],
   "source": [
    "r.transpose()"
   ]
  },
  {
   "cell_type": "code",
   "execution_count": 17,
   "id": "459661cd-3321-47d0-b886-7427fb38c8a5",
   "metadata": {},
   "outputs": [
    {
     "data": {
      "text/plain": [
       "dtype('float64')"
      ]
     },
     "execution_count": 17,
     "metadata": {},
     "output_type": "execute_result"
    }
   ],
   "source": [
    "r.dtype"
   ]
  },
  {
   "cell_type": "code",
   "execution_count": 31,
   "id": "84ea9a32-16b3-4d0c-9656-1b08ecdddc41",
   "metadata": {},
   "outputs": [
    {
     "data": {
      "text/plain": [
       "array([[-0.69403534, -1.50166477,  0.33603346, -1.82615091,  0.51147046,\n",
       "        -2.51179988, -0.1234874 ,  1.31666786],\n",
       "       [-1.07133403, -0.38901862,  1.168204  , -0.44424106, -0.92711379,\n",
       "        -1.99452504,  1.38130699, -0.60210761]])"
      ]
     },
     "execution_count": 31,
     "metadata": {},
     "output_type": "execute_result"
    }
   ],
   "source": [
    "r.reshape(2,8)"
   ]
  },
  {
   "cell_type": "code",
   "execution_count": 33,
   "id": "1a16dfff-f31c-44be-b96d-f621dc348dad",
   "metadata": {},
   "outputs": [],
   "source": [
    "a = [[1, 0], [0, 1]]\n",
    "b = [[4, 1], [2, 2]]\n"
   ]
  },
  {
   "cell_type": "code",
   "execution_count": 34,
   "id": "1143f484-61df-4d22-b2b1-e578e85c8d94",
   "metadata": {},
   "outputs": [
    {
     "data": {
      "text/plain": [
       "[[1, 0], [0, 1]]"
      ]
     },
     "execution_count": 34,
     "metadata": {},
     "output_type": "execute_result"
    }
   ],
   "source": [
    "a"
   ]
  },
  {
   "cell_type": "code",
   "execution_count": 35,
   "id": "84810113-e83e-406f-97db-441757622647",
   "metadata": {},
   "outputs": [
    {
     "data": {
      "text/plain": [
       "[[4, 1], [2, 2]]"
      ]
     },
     "execution_count": 35,
     "metadata": {},
     "output_type": "execute_result"
    }
   ],
   "source": [
    "b"
   ]
  },
  {
   "cell_type": "code",
   "execution_count": 36,
   "id": "addc2f66-9714-477a-a55c-d6f7b28eacbb",
   "metadata": {},
   "outputs": [
    {
     "data": {
      "text/plain": [
       "array([[4, 1],\n",
       "       [2, 2]])"
      ]
     },
     "execution_count": 36,
     "metadata": {},
     "output_type": "execute_result"
    }
   ],
   "source": [
    "np.dot(a, b)"
   ]
  },
  {
   "cell_type": "code",
   "execution_count": null,
   "id": "0baeaf5d-c1ef-4482-b046-7393fa3e0e6c",
   "metadata": {},
   "outputs": [],
   "source": [
    "np.sort"
   ]
  }
 ],
 "metadata": {
  "kernelspec": {
   "display_name": "Python [conda env:base] *",
   "language": "python",
   "name": "conda-base-py"
  },
  "language_info": {
   "codemirror_mode": {
    "name": "ipython",
    "version": 3
   },
   "file_extension": ".py",
   "mimetype": "text/x-python",
   "name": "python",
   "nbconvert_exporter": "python",
   "pygments_lexer": "ipython3",
   "version": "3.12.7"
  }
 },
 "nbformat": 4,
 "nbformat_minor": 5
}

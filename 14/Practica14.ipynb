{
 "cells": [
  {
   "cell_type": "code",
   "execution_count": 6,
   "id": "259c3031-72aa-450b-8177-3b4d58fd8742",
   "metadata": {},
   "outputs": [],
   "source": [
    "import pandas as pd\n",
    "import numpy as np"
   ]
  },
  {
   "cell_type": "code",
   "execution_count": 24,
   "id": "54bd3d62-da99-4c0f-8982-3a67d7e0d44b",
   "metadata": {},
   "outputs": [],
   "source": [
    "\n",
    "data = {\n",
    "    'nombre': ['Juan Pérez', 'Ana López', 'María García', 'Luis Martínez', 'Carmen Rodríguez'],\n",
    "    'correo': ['juan@example.com', 'ana@example.com', 'maria@example.com', 'luis@example.com', 'carmen@example.com'],\n",
    "    'ubicacion': ['Ciudad A', 'Ciudad A', 'Ciudad C', 'Ciudad C', 'Ciudad A']\n",
    "}\n",
    "\n",
    "df = pd.DataFrame(data)"
   ]
  },
  {
   "cell_type": "code",
   "execution_count": 23,
   "id": "67ab8ee5-3475-4c77-9e49-58e731317c58",
   "metadata": {},
   "outputs": [],
   "source": [
    "df.drop([\"nombre\",\"correo\"], axis=1, inplace=True)"
   ]
  },
  {
   "cell_type": "code",
   "execution_count": 8,
   "id": "64c13ae2-cf08-4319-ad1d-836aa1b96012",
   "metadata": {},
   "outputs": [
    {
     "data": {
      "text/plain": [
       "array([[-0.44253874,  1.0621167 , -0.37414487, -0.31712291,  0.62351048],\n",
       "       [-0.99138509,  0.80815432,  0.81893818,  0.14674759, -2.13493021],\n",
       "       [ 0.28515097,  0.50235695, -1.02865932,  0.07216913,  0.16490093],\n",
       "       [-2.1638946 , -0.85893069, -1.26246522, -1.54991454,  0.76461634],\n",
       "       [ 1.37644807, -0.82330919,  1.34796658, -0.69700942, -1.68546004]])"
      ]
     },
     "execution_count": 8,
     "metadata": {},
     "output_type": "execute_result"
    }
   ],
   "source": [
    "np.random.rand(5,5)"
   ]
  },
  {
   "cell_type": "code",
   "execution_count": 17,
   "id": "abacd728-2e8c-4655-9aa6-3ac1df0f382c",
   "metadata": {},
   "outputs": [
    {
     "data": {
      "text/plain": [
       "array([55, 63, 99, 55, 96])"
      ]
     },
     "execution_count": 17,
     "metadata": {},
     "output_type": "execute_result"
    }
   ],
   "source": [
    "np.random.randint(100,size=(5))"
   ]
  },
  {
   "cell_type": "code",
   "execution_count": 25,
   "id": "a0f0607e-ccd7-417e-9baa-af97e13c33ec",
   "metadata": {},
   "outputs": [],
   "source": [
    "df_agrupado = df.groupby(\"ubicacion\")"
   ]
  },
  {
   "cell_type": "code",
   "execution_count": 31,
   "id": "2f2e5d79-f215-4d56-a514-47a349abba7b",
   "metadata": {},
   "outputs": [
    {
     "name": "stdout",
     "output_type": "stream",
     "text": [
      "Ciudad A              nombre              correo ubicacion\n",
      "0        Juan Pérez    juan@example.com  Ciudad A\n",
      "1         Ana López     ana@example.com  Ciudad A\n",
      "4  Carmen Rodríguez  carmen@example.com  Ciudad A\n",
      "Ciudad C           nombre             correo ubicacion\n",
      "2   María García  maria@example.com  Ciudad C\n",
      "3  Luis Martínez   luis@example.com  Ciudad C\n"
     ]
    }
   ],
   "source": [
    "for grupo, datos in df_agrupado:\n",
    "    print (grupo,datos)"
   ]
  },
  {
   "cell_type": "code",
   "execution_count": null,
   "id": "5568a8ca-f63c-4de6-a19b-1b572c415129",
   "metadata": {},
   "outputs": [],
   "source": []
  }
 ],
 "metadata": {
  "kernelspec": {
   "display_name": "Python [conda env:base] *",
   "language": "python",
   "name": "conda-base-py"
  },
  "language_info": {
   "codemirror_mode": {
    "name": "ipython",
    "version": 3
   },
   "file_extension": ".py",
   "mimetype": "text/x-python",
   "name": "python",
   "nbconvert_exporter": "python",
   "pygments_lexer": "ipython3",
   "version": "3.12.7"
  }
 },
 "nbformat": 4,
 "nbformat_minor": 5
}

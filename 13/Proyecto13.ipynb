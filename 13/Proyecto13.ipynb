{
 "cells": [
  {
   "cell_type": "markdown",
   "id": "d7bf2362",
   "metadata": {},
   "source": [
    "## Proyecto del Día 13 - Juego de Navegación en un Laberinto\n",
    "\n",
    "Este proyecto tiene como objetivo desarrollar un entorno de laberinto simple y aplicar un algoritmo de **Aprendizaje por Refuerzo** para enseñar a una IA a navegar desde un punto inicial hasta un objetivo.\n",
    "\n",
    "Dada la naturaleza de este proyecto, considero que el algoritmo más adecuado para este tipo de probleas es **Q-Learning**, por su facilidad de implelentación y comprensión, su estabilidad y su relación entre la exploración y la explotación.\n",
    "\n",
    "Por esa razón te propongo resolverlo usando ese algoritmo, aunque dejo a tu criterio si quieres resolverlo con otro algoritmo de tu elección. Siempre estaré a favor de que investigues, y expandas las habilidades propuestas por tu cuenta.\n",
    "\n",
    "### Descripción del Laberinto:\n",
    "\n",
    "El laberinto se representa como una matriz de dos dimensions, donde cada elemento puede ser:\n",
    "+ un camino libre (0)\n",
    "+ un obstáculo (1)\n",
    "+ el objetivo (G)\n",
    "\n",
    "La tarea es desarrollar un agente que pueda aprender a encontrar el camino desde un punto de inicio hasta el objetivo evitando obstáculos.\n",
    "\n",
    "\n",
    "### Creación del Laberinto\n",
    "\n",
    "Debido a que el desafío de hoy es bastante complejo, y que el objetivo final no se trata de que sepas desarrollar laberintos, sino sistemas para resolverlos, voy a facilitar la tarea entregando en este cuaderno el código para generar nuestros laberintos.\n",
    "\n",
    "Tu parte será la siguiente, que es diseñar y entrenar un modelo de Q-Learning para resolver el laberinto de la manera mpas eficiente, y luego mostrar una visualización sobre cómo lo ha hecho.\n",
    "\n",
    "Te deseo toda la suerte del mundo, y sobre todo, que te diviertas de a montones."
   ]
  },
  {
   "cell_type": "code",
   "execution_count": 442,
   "id": "3e7ecc11",
   "metadata": {},
   "outputs": [],
   "source": [
    "# Librerías necesarias para todo el ejercicio\n",
    "import numpy as np\n",
    "import matplotlib.pyplot as plt\n",
    "import random"
   ]
  },
  {
   "cell_type": "code",
   "execution_count": 443,
   "id": "6370346d",
   "metadata": {},
   "outputs": [],
   "source": [
    "# Función para crear el laberinto\n",
    "def crear_laberinto(tamanio, porcentaje_paredes=20, inicio=(0, 0), meta=None):\n",
    "    laberinto = np.zeros((tamanio, tamanio))\n",
    "    numero_paredes = int((tamanio * tamanio) * porcentaje_paredes / 100)\n",
    "    \n",
    "    # Ubicar paredes\n",
    "    for pared in range(numero_paredes):\n",
    "        x, y = random.randint(0, tamanio-1), random.randint(0, tamanio-1)\n",
    "        \n",
    "        # Cuidar que inicio y meta no sean paredes\n",
    "        if (x, y) != inicio and (meta is None or (x, y) != meta):\n",
    "            laberinto[x, y] = 1\n",
    "            \n",
    "    # Ubicar la meta\n",
    "    if meta:\n",
    "        laberinto[meta] = 9  # Representa la meta con 9\n",
    "    else:\n",
    "        # Ubicar la meta aleatoriamente si no está especificado\n",
    "        while True:\n",
    "            x, y = random.randint(0, tamanio-1), random.randint(0, tamanio-1)\n",
    "            if laberinto[x, y] == 0 and (x, y) != inicio:\n",
    "                laberinto[x, y] = 9\n",
    "                break\n",
    "    \n",
    "    return laberinto"
   ]
  },
  {
   "cell_type": "code",
   "execution_count": 444,
   "id": "6c648cc8",
   "metadata": {},
   "outputs": [],
   "source": [
    "# Función para visualizar el laberinto\n",
    "def ver_laberinto(laberinto):\n",
    "    plt.figure(figsize=(5, 5))\n",
    "    plt.imshow(laberinto, cmap='hot', interpolation='nearest')\n",
    "    plt.colorbar();"
   ]
  },
  {
   "cell_type": "code",
   "execution_count": 448,
   "id": "10e052cc",
   "metadata": {},
   "outputs": [
    {
     "data": {
      "image/png": "[encoded data removed]",
      "text/plain": [
       "<Figure size 500x500 with 2 Axes>"
      ]
     },
     "metadata": {},
     "output_type": "display_data"
    }
   ],
   "source": [
    "# Ejemplo de crear y mostrar laberintos\n",
    "laberinto = crear_laberinto(10, 20, inicio=(0, 0), meta=(9, 9))\n",
    "ver_laberinto(laberinto)"
   ]
  },
  {
   "cell_type": "markdown",
   "id": "7f986ed5",
   "metadata": {},
   "source": [
    "### Ahora te toca a ti\n",
    "\n",
    "Lo que sigue es implementar todo el código para que un algoritmo de Q-Learning encuentre la manera más eficiente de llegar a la meta. Voy a dejarte los pasos que considero que son los necesarios para lograrlo\n",
    "\n",
    "##### 1. Parámetros para el algoritmo Q-Learning"
   ]
  },
  {
   "cell_type": "code",
   "execution_count": 483,
   "id": "234853df",
   "metadata": {},
   "outputs": [],
   "source": [
    "learning_times =500 # Times that leaning is repeated\n",
    "\n",
    "class MazeSolver:\n",
    "    \n",
    "    def __init__( self, maze=None, alpha=0.1, gamma=0.99, epsilon=0.2, initial_state=(0,0), obj_state=(0,0) ):        \n",
    "        # Dimensions (Based on the Maze data)\n",
    "        self.maze = maze\n",
    "        self.dimensions = maze.shape\n",
    "        \n",
    "        # States\n",
    "        self.initial_state = initial_state #index (i,j) in the laberinth\n",
    "        self.obj_state = obj_state #index (i,j) in the laberinth\n",
    "        self.state_num = self.dimensions[0]*self.dimensions[1] # for a 5,5 laberinth its 5x5 = 25\n",
    "        self.state = initial_state #current state (i,j) in the laberinth\n",
    "        self.s = 0 #index of the state (e.g. in a 5x5 laberinth (5,5) == 24)\n",
    "        self.next_state = (0,0) #next state (i,j) in the laberinth\n",
    "        self.next_s = 0 #index of the next state\n",
    "\n",
    "        # Learning conditions\n",
    "        self.alpha = alpha #learning ratio\n",
    "        self.gamma = gamma # discount factor\n",
    "        self.epsilon = epsilon #explore-exploit factor\n",
    "\n",
    "        # Actions\n",
    "        self.actions = ((-1,0),(1,0),(0,-1),(0,1))\n",
    "        self.actions_num = len(self.actions)\n",
    "        self.a = None #one of the four possible choises in a 2D laberinth\n",
    "        self.actions_sym = ['↑', '↓', '←', '→']\n",
    "\n",
    "        # Create Matrix Q(s,a)\n",
    "        self.Q = np.zeros((self.state_num,self.actions_num)) # Q(s,a)\n",
    "\n",
    "        # Ending condition\n",
    "        self.terminate = False\n",
    "        self.reward = 0\n",
    "    \n",
    "    \n",
    "    # State to index. This is s in the Matrix Q\n",
    "    def state_to_index(self,state):\n",
    "        self.s = self.state[0]*self.dimensions[1] + self.state[1]\n",
    "        return self.s\n",
    "\n",
    "    # Index to state. This is the state in the laberinth\n",
    "    def index_to_state(self,s):\n",
    "        i = s // self.dimensions[0]\n",
    "        j = s % self.dimensions[1]\n",
    "        self.state = [i,j]\n",
    "\n",
    "    def choose_action(self):               \n",
    "        #if explore - >\n",
    "        if np.random.rand(1)  < self.epsilon:\n",
    "            self.a = random.randint(0, self.actions_num - 1)\n",
    "        #Exploit (use the best action known in Q)\n",
    "        else:\n",
    "            self.a = np.argmax(Q[self.s,:])\n",
    "\n",
    "    def is_obstacle(self,state):\n",
    "        if self.maze[state] == 1:\n",
    "            return True\n",
    "    \n",
    "    def apply_action(self):\n",
    "        # Set new positions considering limits\n",
    "        # 1. up limit\n",
    "        if self.state[0] == 0 and self.a == 0:\n",
    "            next_state = self.state\n",
    "        # 2. down limit\n",
    "        elif self.state[0] == self.dimensions[0]-1 and self.a == 1:\n",
    "            next_state = self.state\n",
    "        # 3. left limit\n",
    "        elif self.state[1] == 0 and self.a == 2:\n",
    "            next_state = self.state\n",
    "        # 4. right limit\n",
    "        elif self.state[1] == self.dimensions[1]-1 and self.a == 3:\n",
    "            next_state = self.state\n",
    "        else:\n",
    "            next_state= tuple(np.add(self.state,self.actions[self.a]))\n",
    "\n",
    "        # set rewards or ending condition\n",
    "        terminate = False\n",
    "        if next_state == self.state and next_state != self.obj_state:\n",
    "            reward = -100\n",
    "        if next_state != self.state and not(self.is_obstacle(next_state)):\n",
    "            reward = -1\n",
    "        if self.is_obstacle(next_state): ## if is obstacle == True\n",
    "            reward = -100\n",
    "        if next_state == self.obj_state:\n",
    "            reward = 100\n",
    "            terminate = True\n",
    "\n",
    "        self.reward = reward\n",
    "        self.terminate = terminate\n",
    "        self.next_state = next_state\n",
    "        self.next_s = self.state_to_index(next_state)        \n",
    "\n",
    "    def update_Q_matrix(self):\n",
    "        self.Q[self.s,self.a] = self.Q[self.s,self.a] + self.alpha * (self.reward + self.gamma * np.max(self.Q[self.next_s]) - Q[self.s,self.a])\n",
    "\n",
    "    def update_state(self):\n",
    "        self.state = self.next_state\n",
    "        self.s = self.next_s\n",
    "\n",
    "    def restart(self):\n",
    "        # States\n",
    "        self.initial_state = (0,0) #index (i,j) in the laberinth\n",
    "        self.state = (0,0) #current state (i,j) in the laberinth\n",
    "        self.s = 0 #index of the state (e.g. in a 5x5 laberinth (5,5) == 24)\n",
    "        self.next_state = (0,0) #next state (i,j) in the laberinth\n",
    "        self.next_s = 0\n",
    "\n",
    "        # Actions\n",
    "        self.a = None #one of the four possible choises in a 2D laberinth\n",
    "        \n",
    "        # Ending condition\n",
    "        self.terminate = False\n",
    "        self.reward = 0\n",
    "        "
   ]
  },
  {
   "cell_type": "code",
   "execution_count": 484,
   "id": "10ad9d94-3d31-4407-82f0-b711d153b842",
   "metadata": {},
   "outputs": [],
   "source": [
    "solver = MazeSolver(maze=laberinto)"
   ]
  },
  {
   "cell_type": "markdown",
   "id": "125709aa",
   "metadata": {},
   "source": [
    "##### 2. Función para elegir acciones equilibrando entre explotación y exploración"
   ]
  },
  {
   "cell_type": "code",
   "execution_count": 485,
   "id": "abbd3e3c",
   "metadata": {},
   "outputs": [],
   "source": [
    "for episode in range(learning_times):\n",
    "    solver.restart()\n",
    "    \n",
    "    while not(solver.terminate):\n",
    "        solver.choose_action()\n",
    "        solver.apply_action()\n",
    "        solver.update_Q_matrix()\n",
    "        solver.update_state()"
   ]
  },
  {
   "cell_type": "markdown",
   "id": "003a6550",
   "metadata": {},
   "source": [
    "##### 3. Función para simular la acción en el laberinto"
   ]
  },
  {
   "cell_type": "code",
   "execution_count": 486,
   "id": "f719b2e4",
   "metadata": {},
   "outputs": [
    {
     "name": "stdout",
     "output_type": "stream",
     "text": [
      "[[ 7.67417193e+08  3.31054107e+09  1.02286853e+09  2.76361590e+10]\n",
      " [ 5.31676360e+75  4.86685843e+75  8.11652475e+74  2.33364658e+75]\n",
      " [-3.48473316e+27 -2.49484500e+26 -1.54842147e+26 -2.09373593e+26]\n",
      " [-1.65675749e+25 -6.00605260e+23 -1.10024928e+24 -9.67759618e+23]\n",
      " [-2.41314954e+24 -1.71051860e+23 -1.78824263e+23 -2.13526815e+23]\n",
      " [-1.92257553e+24 -1.52896902e+23 -1.44492789e+23 -1.66907065e+23]\n",
      " [-2.80726638e+25 -1.96910976e+24 -1.60363511e+24 -1.48541564e+24]\n",
      " [-1.50226905e+23 -8.58489119e+21 -6.43964536e+21 -8.38407167e+21]\n",
      " [-1.40595321e+23 -8.64358650e+21 -6.83843833e+21 -7.69262805e+21]\n",
      " [-1.52904269e+23 -6.18307900e+21 -1.21212236e+22 -7.69347582e+21]\n",
      " [ 4.78431997e+11  2.52877565e+10  2.67397288e+10  1.49190326e+11]\n",
      " [-4.81995135e+06 -5.17842326e+06 -6.13110200e+05 -8.10099510e+05]\n",
      " [-2.27020500e+04 -5.15010000e+02 -6.54990000e+02 -6.35590000e+02]\n",
      " [-5.58980000e+02 -3.48600000e+01 -3.69700000e+01 -3.31600000e+01]\n",
      " [-5.33780000e+02 -5.36800000e+01 -5.59400000e+01 -3.72100000e+01]\n",
      " [-6.93448000e+03 -4.95900000e+01 -2.90200000e+01 -3.79380000e+02]\n",
      " [-4.91510000e+02 -3.38340000e+02 -2.71300000e+01 -3.72500000e+01]\n",
      " [-6.60639000e+03 -1.94400000e+01 -3.61500000e+02 -2.80300000e+01]\n",
      " [-3.91380000e+02 -2.58800000e+01 -2.89800000e+01 -2.10200000e+01]\n",
      " [-5.02510000e+02 -2.03000000e+01 -2.63200000e+01 -2.76600000e+02]\n",
      " [-9.02000000e+00 -1.00000000e-01 -8.00600000e+01 -6.30000000e-01]\n",
      " [-1.44216800e+04 -1.00118000e+03 -6.31360000e+02 -9.28450000e+02]\n",
      " [-1.98200000e+01 -1.47000000e+00 -4.60000000e-01 -4.50000000e-01]\n",
      " [-4.40000000e+00  0.00000000e+00 -1.00000000e-01 -2.00000000e-01]\n",
      " [-5.60000000e+00 -3.10000000e-01 -2.10000000e-01 -1.00000000e-01]\n",
      " [-4.19000000e+00 -4.60000000e-01 -5.70000000e-01 -7.00800000e+01]\n",
      " [-3.80000000e+02  0.00000000e+00  0.00000000e+00 -4.00000000e-01]\n",
      " [-3.40000000e+00 -6.00000000e+01  0.00000000e+00  0.00000000e+00]\n",
      " [-4.00000000e+00  0.00000000e+00  0.00000000e+00 -3.00000000e-01]\n",
      " [-3.92000000e+00 -2.10000000e-01 -1.00000000e-01 -3.00100000e+01]\n",
      " [-4.00000000e-01  0.00000000e+00  0.00000000e+00  0.00000000e+00]\n",
      " [-9.22000000e+00 -5.70000000e-01 -3.30000000e-01 -5.70000000e-01]\n",
      " [-1.43000000e+00 -2.00000000e+01 -1.00000000e-01 -2.00000000e+01]\n",
      " [-1.00000000e-01  0.00000000e+00  0.00000000e+00 -1.00000000e-01]\n",
      " [-3.00000000e-01 -1.00000000e-01  0.00000000e+00 -1.00000000e-01]\n",
      " [-4.00000000e-01  0.00000000e+00  0.00000000e+00 -1.00000000e-01]\n",
      " [-3.00000000e+01 -1.00000000e-01  0.00000000e+00  0.00000000e+00]\n",
      " [-4.00000000e-01 -1.00000000e-01 -1.00000000e-01  0.00000000e+00]\n",
      " [ 0.00000000e+00  0.00000000e+00  0.00000000e+00  0.00000000e+00]\n",
      " [-2.00000000e-01  0.00000000e+00  0.00000000e+00 -1.00000000e+01]\n",
      " [ 0.00000000e+00  0.00000000e+00  0.00000000e+00  0.00000000e+00]\n",
      " [-5.00000000e-01 -3.00000000e-01  0.00000000e+00  0.00000000e+00]\n",
      " [-2.00000000e-01  0.00000000e+00  0.00000000e+00  0.00000000e+00]\n",
      " [ 0.00000000e+00  0.00000000e+00  0.00000000e+00  0.00000000e+00]\n",
      " [-1.00000000e-01  0.00000000e+00  0.00000000e+00  0.00000000e+00]\n",
      " [ 0.00000000e+00  0.00000000e+00  0.00000000e+00  0.00000000e+00]\n",
      " [-2.00000000e-01  0.00000000e+00  0.00000000e+00  0.00000000e+00]\n",
      " [ 0.00000000e+00  0.00000000e+00 -1.00000000e-01  0.00000000e+00]\n",
      " [ 0.00000000e+00  0.00000000e+00  0.00000000e+00  0.00000000e+00]\n",
      " [ 0.00000000e+00  0.00000000e+00  0.00000000e+00  0.00000000e+00]\n",
      " [ 0.00000000e+00  0.00000000e+00  0.00000000e+00  0.00000000e+00]\n",
      " [-3.00000000e-01  0.00000000e+00  0.00000000e+00  0.00000000e+00]\n",
      " [ 0.00000000e+00  0.00000000e+00  0.00000000e+00  0.00000000e+00]\n",
      " [ 0.00000000e+00  0.00000000e+00  0.00000000e+00  0.00000000e+00]\n",
      " [ 0.00000000e+00  0.00000000e+00  0.00000000e+00  0.00000000e+00]\n",
      " [ 0.00000000e+00  0.00000000e+00  0.00000000e+00  0.00000000e+00]\n",
      " [ 0.00000000e+00  0.00000000e+00  0.00000000e+00  0.00000000e+00]\n",
      " [ 0.00000000e+00  0.00000000e+00  0.00000000e+00  0.00000000e+00]\n",
      " [ 0.00000000e+00  0.00000000e+00  0.00000000e+00  0.00000000e+00]\n",
      " [ 0.00000000e+00  0.00000000e+00  0.00000000e+00  0.00000000e+00]\n",
      " [ 0.00000000e+00  0.00000000e+00  0.00000000e+00  0.00000000e+00]\n",
      " [ 0.00000000e+00  0.00000000e+00  0.00000000e+00  0.00000000e+00]\n",
      " [ 0.00000000e+00  0.00000000e+00  0.00000000e+00  0.00000000e+00]\n",
      " [ 0.00000000e+00  0.00000000e+00  0.00000000e+00  0.00000000e+00]\n",
      " [ 0.00000000e+00  0.00000000e+00  0.00000000e+00  0.00000000e+00]\n",
      " [ 0.00000000e+00  0.00000000e+00  0.00000000e+00  0.00000000e+00]\n",
      " [ 0.00000000e+00  0.00000000e+00  0.00000000e+00  0.00000000e+00]\n",
      " [ 0.00000000e+00  0.00000000e+00  0.00000000e+00  0.00000000e+00]\n",
      " [ 0.00000000e+00  0.00000000e+00  0.00000000e+00  0.00000000e+00]\n",
      " [ 0.00000000e+00  0.00000000e+00  0.00000000e+00  0.00000000e+00]\n",
      " [ 0.00000000e+00  0.00000000e+00  0.00000000e+00  0.00000000e+00]\n",
      " [ 0.00000000e+00  0.00000000e+00  0.00000000e+00  0.00000000e+00]\n",
      " [ 0.00000000e+00  0.00000000e+00  0.00000000e+00  0.00000000e+00]\n",
      " [ 0.00000000e+00  0.00000000e+00  0.00000000e+00  0.00000000e+00]\n",
      " [ 0.00000000e+00  0.00000000e+00  0.00000000e+00  0.00000000e+00]\n",
      " [ 0.00000000e+00  0.00000000e+00  0.00000000e+00  0.00000000e+00]\n",
      " [ 0.00000000e+00  0.00000000e+00  0.00000000e+00  0.00000000e+00]\n",
      " [ 0.00000000e+00  0.00000000e+00  0.00000000e+00  0.00000000e+00]\n",
      " [ 0.00000000e+00  0.00000000e+00  0.00000000e+00  0.00000000e+00]\n",
      " [ 0.00000000e+00  0.00000000e+00  0.00000000e+00  0.00000000e+00]\n",
      " [ 0.00000000e+00  0.00000000e+00  0.00000000e+00  0.00000000e+00]\n",
      " [ 0.00000000e+00  0.00000000e+00  0.00000000e+00  0.00000000e+00]\n",
      " [ 0.00000000e+00  0.00000000e+00  0.00000000e+00  0.00000000e+00]\n",
      " [ 0.00000000e+00  0.00000000e+00  0.00000000e+00  0.00000000e+00]\n",
      " [ 0.00000000e+00  0.00000000e+00  0.00000000e+00  0.00000000e+00]\n",
      " [ 0.00000000e+00  0.00000000e+00  0.00000000e+00  0.00000000e+00]\n",
      " [ 0.00000000e+00  0.00000000e+00  0.00000000e+00  0.00000000e+00]\n",
      " [ 0.00000000e+00  0.00000000e+00  0.00000000e+00  0.00000000e+00]\n",
      " [ 0.00000000e+00  0.00000000e+00  0.00000000e+00  0.00000000e+00]\n",
      " [ 0.00000000e+00  0.00000000e+00  0.00000000e+00  0.00000000e+00]\n",
      " [ 0.00000000e+00  0.00000000e+00  0.00000000e+00  0.00000000e+00]\n",
      " [ 0.00000000e+00  0.00000000e+00  0.00000000e+00  0.00000000e+00]\n",
      " [ 0.00000000e+00  0.00000000e+00  0.00000000e+00  0.00000000e+00]\n",
      " [ 0.00000000e+00  0.00000000e+00  0.00000000e+00  0.00000000e+00]\n",
      " [ 0.00000000e+00  0.00000000e+00  0.00000000e+00  0.00000000e+00]\n",
      " [ 0.00000000e+00  0.00000000e+00  0.00000000e+00  0.00000000e+00]\n",
      " [ 0.00000000e+00  0.00000000e+00  0.00000000e+00  0.00000000e+00]\n",
      " [ 0.00000000e+00  0.00000000e+00  0.00000000e+00  0.00000000e+00]\n",
      " [ 0.00000000e+00  0.00000000e+00  0.00000000e+00  0.00000000e+00]\n",
      " [ 0.00000000e+00  0.00000000e+00  0.00000000e+00  0.00000000e+00]]\n"
     ]
    }
   ],
   "source": [
    "print(np.round(solver.Q,2))"
   ]
  },
  {
   "cell_type": "markdown",
   "id": "24c3dc48",
   "metadata": {},
   "source": [
    "##### 4. Función principal para ejecutar el algoritmo Q-Learning"
   ]
  },
  {
   "cell_type": "code",
   "execution_count": null,
   "id": "5ee5259c",
   "metadata": {},
   "outputs": [],
   "source": []
  },
  {
   "cell_type": "markdown",
   "id": "bac97336",
   "metadata": {},
   "source": [
    "##### 5. Función para convertir coordenadas a índice lineal"
   ]
  },
  {
   "cell_type": "code",
   "execution_count": null,
   "id": "b5311d5e",
   "metadata": {},
   "outputs": [],
   "source": []
  },
  {
   "cell_type": "markdown",
   "id": "f60f0d38",
   "metadata": {},
   "source": [
    "##### 6. Iniciar el laberinto y configurar el algoritmo Q-Learning"
   ]
  },
  {
   "cell_type": "code",
   "execution_count": null,
   "id": "2355b8a2",
   "metadata": {},
   "outputs": [],
   "source": []
  },
  {
   "cell_type": "markdown",
   "id": "addf32a0",
   "metadata": {},
   "source": [
    "##### 7. Función para mostrar el aprendizaje del agente"
   ]
  },
  {
   "cell_type": "code",
   "execution_count": null,
   "id": "e42f818e",
   "metadata": {},
   "outputs": [],
   "source": []
  },
  {
   "cell_type": "markdown",
   "id": "060cb8db",
   "metadata": {},
   "source": [
    "##### 8. Visualizar el resultado"
   ]
  },
  {
   "cell_type": "code",
   "execution_count": null,
   "id": "a38f1228",
   "metadata": {},
   "outputs": [],
   "source": []
  }
 ],
 "metadata": {
  "kernelspec": {
   "display_name": "Python [conda env:base] *",
   "language": "python",
   "name": "conda-base-py"
  },
  "language_info": {
   "codemirror_mode": {
    "name": "ipython",
    "version": 3
   },
   "file_extension": ".py",
   "mimetype": "text/x-python",
   "name": "python",
   "nbconvert_exporter": "python",
   "pygments_lexer": "ipython3",
   "version": "3.12.7"
  }
 },
 "nbformat": 4,
 "nbformat_minor": 5
}

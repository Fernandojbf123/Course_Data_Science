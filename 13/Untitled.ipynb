{
 "cells": [
  {
   "cell_type": "code",
   "execution_count": 15,
   "id": "08e58098-2818-45ce-a5d2-ea88815b593c",
   "metadata": {},
   "outputs": [],
   "source": [
    "import random\n",
    "import numpy as np"
   ]
  },
  {
   "cell_type": "code",
   "execution_count": 27,
   "id": "781f9ed8-fe2b-49f8-bba7-183d604f9366",
   "metadata": {},
   "outputs": [
    {
     "data": {
      "text/plain": [
       "0.48220339178863625"
      ]
     },
     "execution_count": 27,
     "metadata": {},
     "output_type": "execute_result"
    }
   ],
   "source": [
    "random.uniform(0, 1)"
   ]
  },
  {
   "cell_type": "code",
   "execution_count": 53,
   "id": "93427532-0b5d-4580-9932-758f1b00af5d",
   "metadata": {},
   "outputs": [],
   "source": [
    "epsilon = 0.2\n",
    "alpha = 0.1\n",
    "gamma = 0.99\n",
    "epsilon = 0.2\n",
    "episodios = 100\n",
    "dimensiones = (5, 5)\n",
    "estado_inicial = (0, 0)\n",
    "estado_objetivo = (4, 4)\n",
    "obstaculos = [(1, 1), (1, 3), (2, 3), (3, 0)]\n",
    "acciones = [(-1, 0), (1, 0), (0, -1), (0, 1)]\n",
    "num_estados = dimensiones[0] * dimensiones[1]\n",
    "num_acciones = len(acciones)\n"
   ]
  },
  {
   "cell_type": "code",
   "execution_count": 54,
   "id": "65dce0d4-e58f-4d6c-8dce-ad9723de787d",
   "metadata": {},
   "outputs": [],
   "source": [
    "Q = np.zeros((25, 4))"
   ]
  },
  {
   "cell_type": "code",
   "execution_count": 66,
   "id": "74cc1ec0-760b-4942-9312-3be8c3dcbeab",
   "metadata": {},
   "outputs": [],
   "source": [
    "def estado_a_indice(estado):\n",
    "    return estado[0] * dimensiones[1] + estado[1]\n",
    "    \n",
    "def elegir_accion(estado):\n",
    "    if random.uniform(0, 1) < epsilon:\n",
    "        return random.choice(range(num_acciones))\n",
    "    else:\n",
    "        return np.argmax(Q[estado_a_indice(estado)])\n",
    "\n",
    "def aplicar_accion(estado, accion_idx):\n",
    "    accion = acciones[accion_idx]\n",
    "    nuevo_estado = tuple(np.add(estado, accion) % dimensiones)\n",
    "    \n",
    "    if nuevo_estado in obstaculos or nuevo_estado == estado:\n",
    "        return estado, -100, False\n",
    "    if nuevo_estado == estado_objetivo:\n",
    "        return nuevo_estado, 100, True\n",
    "    return nuevo_estado, -1, False"
   ]
  },
  {
   "cell_type": "code",
   "execution_count": 131,
   "id": "4a7006cc-7166-43b2-a157-8f7c5b6a7dab",
   "metadata": {},
   "outputs": [
    {
     "data": {
      "text/plain": [
       "2"
      ]
     },
     "execution_count": 131,
     "metadata": {},
     "output_type": "execute_result"
    }
   ],
   "source": [
    "elegir_accion((1,1))"
   ]
  },
  {
   "cell_type": "code",
   "execution_count": 199,
   "id": "ba23547a-5e2c-4c01-84c8-90658f44f98a",
   "metadata": {},
   "outputs": [
    {
     "data": {
      "text/plain": [
       "3.0"
      ]
     },
     "execution_count": 199,
     "metadata": {},
     "output_type": "execute_result"
    }
   ],
   "source": [
    "np.floor(random.uniform(0, 4))"
   ]
  },
  {
   "cell_type": "code",
   "execution_count": null,
   "id": "76059597-6e49-4ace-bdd2-a71572a0d330",
   "metadata": {},
   "outputs": [],
   "source": []
  }
 ],
 "metadata": {
  "kernelspec": {
   "display_name": "Python [conda env:base] *",
   "language": "python",
   "name": "conda-base-py"
  },
  "language_info": {
   "codemirror_mode": {
    "name": "ipython",
    "version": 3
   },
   "file_extension": ".py",
   "mimetype": "text/x-python",
   "name": "python",
   "nbconvert_exporter": "python",
   "pygments_lexer": "ipython3",
   "version": "3.12.7"
  }
 },
 "nbformat": 4,
 "nbformat_minor": 5
}

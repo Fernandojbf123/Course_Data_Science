{
 "cells": [
  {
   "cell_type": "code",
   "execution_count": 8,
   "id": "fe54ce1b",
   "metadata": {},
   "outputs": [],
   "source": [
    "import pandas as pd\n",
    "serie1 = pd.Series([1,2,3])\n",
    "serie2 = pd.Series([3,2,1])\n",
    "serie_sumada = serie1 + serie2"
   ]
  },
  {
   "cell_type": "code",
   "execution_count": 9,
   "id": "76144ea5-21aa-4197-85da-e1a3e20a3aff",
   "metadata": {},
   "outputs": [
    {
     "data": {
      "text/plain": [
       "0    4\n",
       "1    4\n",
       "2    4\n",
       "dtype: int64"
      ]
     },
     "execution_count": 9,
     "metadata": {},
     "output_type": "execute_result"
    }
   ],
   "source": [
    "serie_sumada"
   ]
  },
  {
   "cell_type": "code",
   "execution_count": 13,
   "id": "aaec8d5e-3649-4027-9c77-5fb74e98dc4e",
   "metadata": {},
   "outputs": [
    {
     "data": {
      "text/plain": [
       "3.0"
      ]
     },
     "execution_count": 13,
     "metadata": {},
     "output_type": "execute_result"
    }
   ],
   "source": [
    "serie_grande = pd.Series(list(range(1,11)))\n",
    "serie_grande[8]**(1/2)"
   ]
  },
  {
   "cell_type": "code",
   "execution_count": 40,
   "id": "fde3f36b-6784-4135-9683-f6bedee17c03",
   "metadata": {},
   "outputs": [
    {
     "name": "stdout",
     "output_type": "stream",
     "text": [
      "   Id_producto  Cantidad_vendida  Precio\n",
      "0         1001              30.0    20.5\n",
      "1         1002               NaN    15.0\n",
      "2         1003              25.0     NaN\n",
      "3         1003              25.0    22.5\n"
     ]
    }
   ],
   "source": [
    "data = {\"Id_producto\": [1001, 1002, 1003, 1003],\n",
    "        \"Cantidad_vendida\": [30, None, 25, 25],\n",
    "        \"Precio\": [20.5, 15.0, None, 22.5]}\n",
    "df = pd.DataFrame(data)\n",
    "print(df)"
   ]
  },
  {
   "cell_type": "code",
   "execution_count": 62,
   "id": "dde48ec7-fcde-4f97-a3f0-f0c509b43f75",
   "metadata": {},
   "outputs": [
    {
     "data": {
      "text/plain": [
       "Id_producto         0\n",
       "Cantidad_vendida    1\n",
       "Precio              1\n",
       "dtype: int64"
      ]
     },
     "execution_count": 62,
     "metadata": {},
     "output_type": "execute_result"
    }
   ],
   "source": [
    "df.isna().sum()"
   ]
  },
  {
   "cell_type": "code",
   "execution_count": 47,
   "id": "e5a55545-072e-48fd-909e-d7528f1d43fe",
   "metadata": {},
   "outputs": [
    {
     "name": "stdout",
     "output_type": "stream",
     "text": [
      "[0, 1, 'hola', 3]\n"
     ]
    }
   ],
   "source": [
    "df.drop_duplicates"
   ]
  },
  {
   "cell_type": "code",
   "execution_count": 55,
   "id": "704eaae1-4aec-44ff-8932-873f7bc129c3",
   "metadata": {},
   "outputs": [
    {
     "ename": "ValueError",
     "evalue": "Lengths must be equal",
     "output_type": "error",
     "traceback": [
      "\u001b[1;31m---------------------------------------------------------------------------\u001b[0m",
      "\u001b[1;31mValueError\u001b[0m                                Traceback (most recent call last)",
      "Cell \u001b[1;32mIn[55], line 1\u001b[0m\n\u001b[1;32m----> 1\u001b[0m pd\u001b[38;5;241m.\u001b[39mSeries()\u001b[38;5;241m.\u001b[39madd([\u001b[38;5;241m1\u001b[39m,\u001b[38;5;241m2\u001b[39m])\n",
      "File \u001b[1;32m~\\anaconda3\\Lib\\site-packages\\pandas\\core\\series.py:6306\u001b[0m, in \u001b[0;36mSeries.add\u001b[1;34m(self, other, level, fill_value, axis)\u001b[0m\n\u001b[0;32m   6304\u001b[0m \u001b[38;5;129m@Appender\u001b[39m(ops\u001b[38;5;241m.\u001b[39mmake_flex_doc(\u001b[38;5;124m\"\u001b[39m\u001b[38;5;124madd\u001b[39m\u001b[38;5;124m\"\u001b[39m, \u001b[38;5;124m\"\u001b[39m\u001b[38;5;124mseries\u001b[39m\u001b[38;5;124m\"\u001b[39m))\n\u001b[0;32m   6305\u001b[0m \u001b[38;5;28;01mdef\u001b[39;00m \u001b[38;5;21madd\u001b[39m(\u001b[38;5;28mself\u001b[39m, other, level\u001b[38;5;241m=\u001b[39m\u001b[38;5;28;01mNone\u001b[39;00m, fill_value\u001b[38;5;241m=\u001b[39m\u001b[38;5;28;01mNone\u001b[39;00m, axis: Axis \u001b[38;5;241m=\u001b[39m \u001b[38;5;241m0\u001b[39m) \u001b[38;5;241m-\u001b[39m\u001b[38;5;241m>\u001b[39m Series:\n\u001b[1;32m-> 6306\u001b[0m     \u001b[38;5;28;01mreturn\u001b[39;00m \u001b[38;5;28mself\u001b[39m\u001b[38;5;241m.\u001b[39m_flex_method(\n\u001b[0;32m   6307\u001b[0m         other, operator\u001b[38;5;241m.\u001b[39madd, level\u001b[38;5;241m=\u001b[39mlevel, fill_value\u001b[38;5;241m=\u001b[39mfill_value, axis\u001b[38;5;241m=\u001b[39maxis\n\u001b[0;32m   6308\u001b[0m     )\n",
      "File \u001b[1;32m~\\anaconda3\\Lib\\site-packages\\pandas\\core\\series.py:6249\u001b[0m, in \u001b[0;36mSeries._flex_method\u001b[1;34m(self, other, op, level, fill_value, axis)\u001b[0m\n\u001b[0;32m   6247\u001b[0m \u001b[38;5;28;01melif\u001b[39;00m \u001b[38;5;28misinstance\u001b[39m(other, (np\u001b[38;5;241m.\u001b[39mndarray, \u001b[38;5;28mlist\u001b[39m, \u001b[38;5;28mtuple\u001b[39m)):\n\u001b[0;32m   6248\u001b[0m     \u001b[38;5;28;01mif\u001b[39;00m \u001b[38;5;28mlen\u001b[39m(other) \u001b[38;5;241m!=\u001b[39m \u001b[38;5;28mlen\u001b[39m(\u001b[38;5;28mself\u001b[39m):\n\u001b[1;32m-> 6249\u001b[0m         \u001b[38;5;28;01mraise\u001b[39;00m \u001b[38;5;167;01mValueError\u001b[39;00m(\u001b[38;5;124m\"\u001b[39m\u001b[38;5;124mLengths must be equal\u001b[39m\u001b[38;5;124m\"\u001b[39m)\n\u001b[0;32m   6250\u001b[0m     other \u001b[38;5;241m=\u001b[39m \u001b[38;5;28mself\u001b[39m\u001b[38;5;241m.\u001b[39m_constructor(other, \u001b[38;5;28mself\u001b[39m\u001b[38;5;241m.\u001b[39mindex, copy\u001b[38;5;241m=\u001b[39m\u001b[38;5;28;01mFalse\u001b[39;00m)\n\u001b[0;32m   6251\u001b[0m     result \u001b[38;5;241m=\u001b[39m \u001b[38;5;28mself\u001b[39m\u001b[38;5;241m.\u001b[39m_binop(other, op, level\u001b[38;5;241m=\u001b[39mlevel, fill_value\u001b[38;5;241m=\u001b[39mfill_value)\n",
      "\u001b[1;31mValueError\u001b[0m: Lengths must be equal"
     ]
    }
   ],
   "source": [
    "pd.Series()."
   ]
  },
  {
   "cell_type": "code",
   "execution_count": 65,
   "id": "9a6ab41b-7ec9-4f54-88d7-17ae6cde2734",
   "metadata": {},
   "outputs": [],
   "source": [
    "data = {\n",
    "    'ID': [1, 2, 3, 4],\n",
    "    'Producto': ['Producto A', 'Producto B', 'Producto C', 'Producto D'],\n",
    "    'Cantidad': [10, 20, 30, 40],\n",
    "    'Precio': [100, None, 300, None]\n",
    "}\n",
    "\n",
    "df = pd.DataFrame(data)\n",
    "nuevos_valores = {\"Precio\":df[\"Precio\"].mean()}"
   ]
  },
  {
   "cell_type": "code",
   "execution_count": 67,
   "id": "be18961b-f28d-4b25-94af-322c85ae2e42",
   "metadata": {},
   "outputs": [
    {
     "ename": "TypeError",
     "evalue": "list expected at most 1 argument, got 2",
     "output_type": "error",
     "traceback": [
      "\u001b[1;31m---------------------------------------------------------------------------\u001b[0m",
      "\u001b[1;31mTypeError\u001b[0m                                 Traceback (most recent call last)",
      "Cell \u001b[1;32mIn[67], line 1\u001b[0m\n\u001b[1;32m----> 1\u001b[0m serie_numeros \u001b[38;5;241m=\u001b[39m pd\u001b[38;5;241m.\u001b[39mSeries(\u001b[38;5;28mlist\u001b[39m(\u001b[38;5;241m1\u001b[39m,\u001b[38;5;241m21\u001b[39m))\n\u001b[0;32m      2\u001b[0m filtro \u001b[38;5;241m=\u001b[39m serie_numeros \u001b[38;5;241m>\u001b[39m \u001b[38;5;241m10\u001b[39m\n",
      "\u001b[1;31mTypeError\u001b[0m: list expected at most 1 argument, got 2"
     ]
    }
   ],
   "source": [
    "serie_numeros = pd.Series(list(1,21))\n",
    "filtro = serie_numeros > 10\n",
    "filtrado = serie_numeros[filtro]"
   ]
  },
  {
   "cell_type": "code",
   "execution_count": 70,
   "id": "a8d89220-5069-4a1d-a8b4-9c04eeee31df",
   "metadata": {},
   "outputs": [],
   "source": [
    "frutas = pd.Series([\"manzana\", \"banana\", \"cereza\", \"durazno\", \"frambuesa\"])\n",
    "frutas_con_e = frutas.str.contains(\"e\")\n",
    "solucion = frutas[frutas_con_e]"
   ]
  },
  {
   "cell_type": "code",
   "execution_count": 71,
   "id": "5450d1f1-31c0-4049-a154-4eb377b26a9b",
   "metadata": {},
   "outputs": [
    {
     "data": {
      "text/plain": [
       "2       cereza\n",
       "4    frambuesa\n",
       "dtype: object"
      ]
     },
     "execution_count": 71,
     "metadata": {},
     "output_type": "execute_result"
    }
   ],
   "source": [
    "solucion"
   ]
  },
  {
   "cell_type": "code",
   "execution_count": 72,
   "id": "3d0b9d63-cb74-415e-ba97-076ae3278e35",
   "metadata": {},
   "outputs": [
    {
     "name": "stdout",
     "output_type": "stream",
     "text": [
      "1060\n"
     ]
    }
   ],
   "source": [
    "ventas = [120, 150, 90, 200, 210, 130, 160]\n",
    "indices = [\"Lunes\",\"Martes\",\"Miercoles\",\"Jueves\",\"Viernes\",\"Sabado\",\"Domingo\"]\n",
    "\n",
    "serie = pd.Series(ventas,indices)\n",
    "suma_total_ventas = serie.sum()\n",
    "print(suma_total_ventas)"
   ]
  },
  {
   "cell_type": "code",
   "execution_count": 77,
   "id": "d9802ca1-0943-423b-b03f-32673ff5d53b",
   "metadata": {},
   "outputs": [
    {
     "data": {
      "text/plain": [
       "Viernes    210\n",
       "dtype: int64"
      ]
     },
     "execution_count": 77,
     "metadata": {},
     "output_type": "execute_result"
    }
   ],
   "source": [
    "\n",
    "dia_mayores_ventas = serie.max()\n",
    "serie[serie==dia_mayores_ventas]"
   ]
  },
  {
   "cell_type": "code",
   "execution_count": null,
   "id": "53d15388-ea08-4d4c-ae95-e90206c53892",
   "metadata": {},
   "outputs": [],
   "source": [
    "\n",
    "promedio_ventas = serie.mean()\n",
    "print(promedio_ventas)"
   ]
  }
 ],
 "metadata": {
  "kernelspec": {
   "display_name": "Python [conda env:base] *",
   "language": "python",
   "name": "conda-base-py"
  },
  "language_info": {
   "codemirror_mode": {
    "name": "ipython",
    "version": 3
   },
   "file_extension": ".py",
   "mimetype": "text/x-python",
   "name": "python",
   "nbconvert_exporter": "python",
   "pygments_lexer": "ipython3",
   "version": "3.12.7"
  }
 },
 "nbformat": 4,
 "nbformat_minor": 5
}

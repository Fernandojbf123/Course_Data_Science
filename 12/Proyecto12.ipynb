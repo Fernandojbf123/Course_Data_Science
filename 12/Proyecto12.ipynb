{
 "cells": [
  {
   "cell_type": "markdown",
   "id": "3891ae72",
   "metadata": {},
   "source": [
    "# Proyecto del Día 12 - Análisis y Clasificación de Clientes\n",
    "\n",
    "Bienvenido al **Proyecto del Día 12**. Lee atentamente la consigna *¡y a programar!*\n",
    "\n",
    "\n",
    "### Título: Análisis y Clasificación de Clientes para Campañas de Marketing\n",
    "\n",
    "En este proyecto, vas a aplicar técnicas avanzadas de análisis de datos para resolver un problema de clasificación de clientes en un conjunto de datos simulado.\n",
    "\n",
    "El objetivo es identificar distintos segmentos de clientes basados en sus comportamientos de compra y características demográficas para diseñar campañas de marketing más efectivas.\n",
    "\n",
    "\n",
    "### Descripción del Proyecto\n",
    "\n",
    "Este proyecto tiene como objetivo utilizar técnicas de análisis de datos y aprendizaje automático para identificar diferentes segmentos de clientes basados en sus comportamientos de compra y características demográficas. Esto te permitirá desarrollar estrategias de marketing dirigidas y personalizadas. Vas a aplicar métodos de preprocesamiento de datos, reducción de dimensiones, y técnicas de clustering para analizar un conjunto de datos simulado de clientes.\n",
    "\n",
    "\n",
    "### Datos\n",
    "\n",
    "Vas a utilizar un dataset simulado llamado `datos_clientes.csv` que te descargarás en los recursos de esta lección, y que contiene información demográfica y de comportamiento de compra de clientes, como la edad, los ingresos anuales, la puntuación de gasto y la categoría de producto favorito.\n",
    "\n",
    "\n",
    "### Consigna del Proyecto\n",
    "\n",
    "1. **Preprocesamiento de Datos**: Cargar, limpiar y preparar el dataset para el análisis. Esto incluye la normalización de los datos para asegurar que las técnicas de reducción de dimensiones y clustering funcionen correctamente.\n",
    "2. **Reducción de Dimensiones**: Utilizar **PCA** y **SVD** para reducir la cantidad de variables y destacar las características más importantes que influyen en el comportamiento del cliente.\n",
    "3. **Clustering**: Implementar **K-Means** y **Clustering Jerárquico** para segmentar los clientes en grupos basados en similitudes en sus datos. Esto ayudará a identificar patrones y tendencias entre diferentes tipos de clientes.\n",
    "4. **Visualización de Datos**: Crear visualizaciones para interpretar los resultados de las técnicas de reducción de dimensiones y clustering. Esto incluye la creación de **gráficos de dispersión** para los resultados de PCA y la visualización de **dendrogramas** para el Clustering Jerárquico.\n",
    "5. **Interpretación y Estrategias de Marketing**: Analizar los clusters obtenidos y desarrollar propuestas de estrategias de marketing específicas para cada segmento de clientes. Deberás justificar tus estrategias basándote en las características y comportamientos de los grupos identificados.\n",
    "\n",
    "¡Mucha suerte, y que te diviertas!"
   ]
  },
  {
   "cell_type": "markdown",
   "id": "28531fac",
   "metadata": {},
   "source": [
    "## Análisis y Clasificación de Clientes para Campañas de Marketing"
   ]
  },
  {
   "cell_type": "markdown",
   "id": "a56458a6",
   "metadata": {},
   "source": [
    "### 1. Preprocesamiento de Datos"
   ]
  },
  {
   "cell_type": "code",
   "execution_count": 2,
   "id": "80aaa4d7",
   "metadata": {},
   "outputs": [],
   "source": [
    "# Importar librerías\n",
    "import pandas as pd\n",
    "import numpy as np\n",
    "import matplotlib.pyplot as plt\n",
    "import seaborn as sns\n",
    "from sklearn.preprocessing import MinMaxScaler\n",
    "from sklearn.decomposition import PCA\n",
    "from sklearn.cluster import KMeans\n",
    "from scipy.cluster.hierarchy import dendrogram, linkage"
   ]
  },
  {
   "cell_type": "code",
   "execution_count": 3,
   "id": "ff5050b3",
   "metadata": {},
   "outputs": [],
   "source": [
    "# Cargar los datos\n",
    "df = pd.read_csv(\"customer_data.csv\")"
   ]
  },
  {
   "cell_type": "code",
   "execution_count": 4,
   "id": "78abbec2",
   "metadata": {},
   "outputs": [
    {
     "name": "stdout",
     "output_type": "stream",
     "text": [
      "<class 'pandas.core.frame.DataFrame'>\n",
      "RangeIndex: 200 entries, 0 to 199\n",
      "Data columns (total 5 columns):\n",
      " #   Column                          Non-Null Count  Dtype \n",
      "---  ------                          --------------  ----- \n",
      " 0   ID Cliente                      200 non-null    int64 \n",
      " 1   Edad                            200 non-null    int64 \n",
      " 2   Ingresos Anuales (k$)           200 non-null    int64 \n",
      " 3   Puntuación de Gasto (1-100)     200 non-null    int64 \n",
      " 4   Categoría de Producto Favorito  200 non-null    object\n",
      "dtypes: int64(4), object(1)\n",
      "memory usage: 7.9+ KB\n"
     ]
    }
   ],
   "source": [
    "# Ver información básica del dataset\n",
    "df.info()"
   ]
  },
  {
   "cell_type": "code",
   "execution_count": 5,
   "id": "37d805ed-5a0e-47e4-b9a9-082671f25a14",
   "metadata": {},
   "outputs": [
    {
     "data": {
      "text/html": [
       "<div>\n",
       "<style scoped>\n",
       "    .dataframe tbody tr th:only-of-type {\n",
       "        vertical-align: middle;\n",
       "    }\n",
       "\n",
       "    .dataframe tbody tr th {\n",
       "        vertical-align: top;\n",
       "    }\n",
       "\n",
       "    .dataframe thead th {\n",
       "        text-align: right;\n",
       "    }\n",
       "</style>\n",
       "<table border=\"1\" class=\"dataframe\">\n",
       "  <thead>\n",
       "    <tr style=\"text-align: right;\">\n",
       "      <th></th>\n",
       "      <th>ID Cliente</th>\n",
       "      <th>Edad</th>\n",
       "      <th>Ingresos Anuales (k$)</th>\n",
       "      <th>Puntuación de Gasto (1-100)</th>\n",
       "      <th>Categoría de Producto Favorito</th>\n",
       "    </tr>\n",
       "  </thead>\n",
       "  <tbody>\n",
       "    <tr>\n",
       "      <th>0</th>\n",
       "      <td>1</td>\n",
       "      <td>56</td>\n",
       "      <td>89</td>\n",
       "      <td>47</td>\n",
       "      <td>Libros</td>\n",
       "    </tr>\n",
       "    <tr>\n",
       "      <th>1</th>\n",
       "      <td>2</td>\n",
       "      <td>69</td>\n",
       "      <td>91</td>\n",
       "      <td>86</td>\n",
       "      <td>Hogar</td>\n",
       "    </tr>\n",
       "    <tr>\n",
       "      <th>2</th>\n",
       "      <td>3</td>\n",
       "      <td>46</td>\n",
       "      <td>46</td>\n",
       "      <td>23</td>\n",
       "      <td>Electrónica</td>\n",
       "    </tr>\n",
       "    <tr>\n",
       "      <th>3</th>\n",
       "      <td>4</td>\n",
       "      <td>32</td>\n",
       "      <td>28</td>\n",
       "      <td>66</td>\n",
       "      <td>Libros</td>\n",
       "    </tr>\n",
       "    <tr>\n",
       "      <th>4</th>\n",
       "      <td>5</td>\n",
       "      <td>60</td>\n",
       "      <td>81</td>\n",
       "      <td>27</td>\n",
       "      <td>Electrónica</td>\n",
       "    </tr>\n",
       "  </tbody>\n",
       "</table>\n",
       "</div>"
      ],
      "text/plain": [
       "   ID Cliente  Edad  Ingresos Anuales (k$)  Puntuación de Gasto (1-100)  \\\n",
       "0           1    56                     89                           47   \n",
       "1           2    69                     91                           86   \n",
       "2           3    46                     46                           23   \n",
       "3           4    32                     28                           66   \n",
       "4           5    60                     81                           27   \n",
       "\n",
       "  Categoría de Producto Favorito  \n",
       "0                         Libros  \n",
       "1                          Hogar  \n",
       "2                    Electrónica  \n",
       "3                         Libros  \n",
       "4                    Electrónica  "
      ]
     },
     "execution_count": 5,
     "metadata": {},
     "output_type": "execute_result"
    }
   ],
   "source": [
    "df.head()"
   ]
  },
  {
   "cell_type": "code",
   "execution_count": 5,
   "id": "ea31c4f9",
   "metadata": {},
   "outputs": [
    {
     "data": {
      "text/html": [
       "<div>\n",
       "<style scoped>\n",
       "    .dataframe tbody tr th:only-of-type {\n",
       "        vertical-align: middle;\n",
       "    }\n",
       "\n",
       "    .dataframe tbody tr th {\n",
       "        vertical-align: top;\n",
       "    }\n",
       "\n",
       "    .dataframe thead th {\n",
       "        text-align: right;\n",
       "    }\n",
       "</style>\n",
       "<table border=\"1\" class=\"dataframe\">\n",
       "  <thead>\n",
       "    <tr style=\"text-align: right;\">\n",
       "      <th></th>\n",
       "      <th>ID Cliente</th>\n",
       "      <th>Edad</th>\n",
       "      <th>Ingresos Anuales (k$)</th>\n",
       "      <th>Puntuación de Gasto (1-100)</th>\n",
       "    </tr>\n",
       "  </thead>\n",
       "  <tbody>\n",
       "    <tr>\n",
       "      <th>count</th>\n",
       "      <td>200.000000</td>\n",
       "      <td>200.00000</td>\n",
       "      <td>200.000000</td>\n",
       "      <td>200.000000</td>\n",
       "    </tr>\n",
       "    <tr>\n",
       "      <th>mean</th>\n",
       "      <td>100.500000</td>\n",
       "      <td>43.42500</td>\n",
       "      <td>69.580000</td>\n",
       "      <td>49.910000</td>\n",
       "    </tr>\n",
       "    <tr>\n",
       "      <th>std</th>\n",
       "      <td>57.879185</td>\n",
       "      <td>14.94191</td>\n",
       "      <td>29.693808</td>\n",
       "      <td>29.409292</td>\n",
       "    </tr>\n",
       "    <tr>\n",
       "      <th>min</th>\n",
       "      <td>1.000000</td>\n",
       "      <td>18.00000</td>\n",
       "      <td>20.000000</td>\n",
       "      <td>1.000000</td>\n",
       "    </tr>\n",
       "    <tr>\n",
       "      <th>25%</th>\n",
       "      <td>50.750000</td>\n",
       "      <td>31.00000</td>\n",
       "      <td>43.750000</td>\n",
       "      <td>24.000000</td>\n",
       "    </tr>\n",
       "    <tr>\n",
       "      <th>50%</th>\n",
       "      <td>100.500000</td>\n",
       "      <td>43.50000</td>\n",
       "      <td>69.500000</td>\n",
       "      <td>50.000000</td>\n",
       "    </tr>\n",
       "    <tr>\n",
       "      <th>75%</th>\n",
       "      <td>150.250000</td>\n",
       "      <td>56.00000</td>\n",
       "      <td>92.500000</td>\n",
       "      <td>74.000000</td>\n",
       "    </tr>\n",
       "    <tr>\n",
       "      <th>max</th>\n",
       "      <td>200.000000</td>\n",
       "      <td>69.00000</td>\n",
       "      <td>119.000000</td>\n",
       "      <td>99.000000</td>\n",
       "    </tr>\n",
       "  </tbody>\n",
       "</table>\n",
       "</div>"
      ],
      "text/plain": [
       "       ID Cliente       Edad  Ingresos Anuales (k$)  \\\n",
       "count  200.000000  200.00000             200.000000   \n",
       "mean   100.500000   43.42500              69.580000   \n",
       "std     57.879185   14.94191              29.693808   \n",
       "min      1.000000   18.00000              20.000000   \n",
       "25%     50.750000   31.00000              43.750000   \n",
       "50%    100.500000   43.50000              69.500000   \n",
       "75%    150.250000   56.00000              92.500000   \n",
       "max    200.000000   69.00000             119.000000   \n",
       "\n",
       "       Puntuación de Gasto (1-100)  \n",
       "count                   200.000000  \n",
       "mean                     49.910000  \n",
       "std                      29.409292  \n",
       "min                       1.000000  \n",
       "25%                      24.000000  \n",
       "50%                      50.000000  \n",
       "75%                      74.000000  \n",
       "max                      99.000000  "
      ]
     },
     "execution_count": 5,
     "metadata": {},
     "output_type": "execute_result"
    }
   ],
   "source": [
    "# Ver la descripción de las estadísticas básicas del dataset\n",
    "df.describe()"
   ]
  },
  {
   "cell_type": "code",
   "execution_count": 6,
   "id": "566641bc",
   "metadata": {},
   "outputs": [
    {
     "data": {
      "text/html": [
       "<div>\n",
       "<style scoped>\n",
       "    .dataframe tbody tr th:only-of-type {\n",
       "        vertical-align: middle;\n",
       "    }\n",
       "\n",
       "    .dataframe tbody tr th {\n",
       "        vertical-align: top;\n",
       "    }\n",
       "\n",
       "    .dataframe thead th {\n",
       "        text-align: right;\n",
       "    }\n",
       "</style>\n",
       "<table border=\"1\" class=\"dataframe\">\n",
       "  <thead>\n",
       "    <tr style=\"text-align: right;\">\n",
       "      <th></th>\n",
       "      <th>Edad</th>\n",
       "      <th>Ingresos Anuales (k$)</th>\n",
       "      <th>Puntuación de Gasto (1-100)</th>\n",
       "    </tr>\n",
       "  </thead>\n",
       "  <tbody>\n",
       "    <tr>\n",
       "      <th>0</th>\n",
       "      <td>56</td>\n",
       "      <td>89</td>\n",
       "      <td>47</td>\n",
       "    </tr>\n",
       "    <tr>\n",
       "      <th>1</th>\n",
       "      <td>69</td>\n",
       "      <td>91</td>\n",
       "      <td>86</td>\n",
       "    </tr>\n",
       "    <tr>\n",
       "      <th>2</th>\n",
       "      <td>46</td>\n",
       "      <td>46</td>\n",
       "      <td>23</td>\n",
       "    </tr>\n",
       "    <tr>\n",
       "      <th>3</th>\n",
       "      <td>32</td>\n",
       "      <td>28</td>\n",
       "      <td>66</td>\n",
       "    </tr>\n",
       "    <tr>\n",
       "      <th>4</th>\n",
       "      <td>60</td>\n",
       "      <td>81</td>\n",
       "      <td>27</td>\n",
       "    </tr>\n",
       "    <tr>\n",
       "      <th>...</th>\n",
       "      <td>...</td>\n",
       "      <td>...</td>\n",
       "      <td>...</td>\n",
       "    </tr>\n",
       "    <tr>\n",
       "      <th>195</th>\n",
       "      <td>69</td>\n",
       "      <td>77</td>\n",
       "      <td>99</td>\n",
       "    </tr>\n",
       "    <tr>\n",
       "      <th>196</th>\n",
       "      <td>30</td>\n",
       "      <td>86</td>\n",
       "      <td>36</td>\n",
       "    </tr>\n",
       "    <tr>\n",
       "      <th>197</th>\n",
       "      <td>58</td>\n",
       "      <td>65</td>\n",
       "      <td>82</td>\n",
       "    </tr>\n",
       "    <tr>\n",
       "      <th>198</th>\n",
       "      <td>20</td>\n",
       "      <td>43</td>\n",
       "      <td>96</td>\n",
       "    </tr>\n",
       "    <tr>\n",
       "      <th>199</th>\n",
       "      <td>56</td>\n",
       "      <td>51</td>\n",
       "      <td>24</td>\n",
       "    </tr>\n",
       "  </tbody>\n",
       "</table>\n",
       "<p>200 rows × 3 columns</p>\n",
       "</div>"
      ],
      "text/plain": [
       "     Edad  Ingresos Anuales (k$)  Puntuación de Gasto (1-100)\n",
       "0      56                     89                           47\n",
       "1      69                     91                           86\n",
       "2      46                     46                           23\n",
       "3      32                     28                           66\n",
       "4      60                     81                           27\n",
       "..    ...                    ...                          ...\n",
       "195    69                     77                           99\n",
       "196    30                     86                           36\n",
       "197    58                     65                           82\n",
       "198    20                     43                           96\n",
       "199    56                     51                           24\n",
       "\n",
       "[200 rows x 3 columns]"
      ]
     },
     "execution_count": 6,
     "metadata": {},
     "output_type": "execute_result"
    }
   ],
   "source": [
    "# Normalizar los datos\n",
    "X = df.iloc[:,1:4]\n",
    "X"
   ]
  },
  {
   "cell_type": "markdown",
   "id": "f4b1ab25",
   "metadata": {},
   "source": [
    "### 2. Reducción de Dimensiones: PCA y SVD"
   ]
  },
  {
   "cell_type": "code",
   "execution_count": 80,
   "id": "1293a477",
   "metadata": {},
   "outputs": [],
   "source": [
    "# Aplicar PCA paso 1 normalizar los datos\n",
    "escala = MinMaxScaler(feature_range=(0,1))\n",
    "X_nor = escala.fit_transform(X)"
   ]
  },
  {
   "cell_type": "code",
   "execution_count": 8,
   "id": "116c202f-2d48-4132-a0b5-931a03f76eec",
   "metadata": {},
   "outputs": [],
   "source": [
    "# Aplicar PCA paso 2 obtener la matriz de covarianza y los eigvec, eigvals\n",
    "pca = PCA(n_components=2)\n",
    "X_pca = pca.fit_transform(X_nor)"
   ]
  },
  {
   "cell_type": "code",
   "execution_count": 9,
   "id": "fd931af1",
   "metadata": {},
   "outputs": [],
   "source": [
    "# Aplicar SVD\n",
    "# Utilizando el DF normalizado (X_nor) obtenido para el PCA\n",
    "U, sigma, VT = np.linalg.svd(X_nor)"
   ]
  },
  {
   "cell_type": "code",
   "execution_count": 10,
   "id": "3baed16c",
   "metadata": {},
   "outputs": [],
   "source": [
    "# Seleccionar los dos primeros componentes singulares para reducción de dimensiones\n",
    "k = 2 # 2 primeros componentes\n",
    "X_svd = U[:,:k]*sigma[:k]"
   ]
  },
  {
   "cell_type": "markdown",
   "id": "18a5865c",
   "metadata": {},
   "source": [
    "### 3. Clustering: K-Means y Clustering Jerárquico"
   ]
  },
  {
   "cell_type": "code",
   "execution_count": 76,
   "id": "7d9a3533",
   "metadata": {},
   "outputs": [
    {
     "name": "stderr",
     "output_type": "stream",
     "text": [
      "C:\\Users\\Ferna\\anaconda3\\Lib\\site-packages\\sklearn\\cluster\\_kmeans.py:1429: UserWarning: KMeans is known to have a memory leak on Windows with MKL, when there are less chunks than available threads. You can avoid it by setting the environment variable OMP_NUM_THREADS=1.\n",
      "  warnings.warn(\n",
      "C:\\Users\\Ferna\\anaconda3\\Lib\\site-packages\\sklearn\\cluster\\_kmeans.py:1429: UserWarning: KMeans is known to have a memory leak on Windows with MKL, when there are less chunks than available threads. You can avoid it by setting the environment variable OMP_NUM_THREADS=1.\n",
      "  warnings.warn(\n"
     ]
    }
   ],
   "source": [
    "# Aplicar K-Means a los datos normalizados\n",
    "kmeans = KMeans(n_clusters=3, random_state=42)\n",
    "kmeans_clusters = kmeans.fit_predict(X_nor)\n",
    "etiquetas = kmeans.labels_\n",
    "\n",
    "# Aplicar K-Means al PCA\n",
    "kmeans_clusters_pca = kmeans.fit(X_pca)\n",
    "centroides = kmeans_clusters_pca.cluster_centers_"
   ]
  },
  {
   "cell_type": "code",
   "execution_count": 22,
   "id": "b8d41ef0",
   "metadata": {},
   "outputs": [],
   "source": [
    "# Aplicar Clustering Jerárquico\n",
    "linked = linkage(X_nor,'ward')"
   ]
  },
  {
   "cell_type": "markdown",
   "id": "c562a49d",
   "metadata": {},
   "source": [
    "### 4. Visualización de Datos"
   ]
  },
  {
   "cell_type": "code",
   "execution_count": 70,
   "id": "5341b268-71da-4699-b1cd-173272d0e5c4",
   "metadata": {},
   "outputs": [
    {
     "data": {
      "text/plain": [
       "Text(0, 0.5, 'PC 2')"
      ]
     },
     "execution_count": 70,
     "metadata": {},
     "output_type": "execute_result"
    },
    {
     "data": {
      "image/png": "[encoded data removed]",
      "text/plain": [
       "<Figure size 1000x800 with 1 Axes>"
      ]
     },
     "metadata": {},
     "output_type": "display_data"
    }
   ],
   "source": [
    "# Crear un gráfico de dispersión para los resultados de PCA\n",
    "plt.figure(figsize=(10,8))\n",
    "for i in range(0,3):\n",
    "    plt.scatter(X_pca[etiquetas==i, 0], X_pca[etiquetas==i, 1],label=i)\n",
    "\n",
    "plt.scatter(centroides[:,0],centroides[:,1],c = \"red\", marker = \"+\", label=\"Centroids\")\n",
    "plt.legend(title = \"Cluster\")\n",
    "plt.grid(True)\n",
    "plt.title(\"PCA analysis and Centroids\")\n",
    "plt.xlabel(\"PC 1\")\n",
    "plt.ylabel(\"PC 2\")"
   ]
  },
  {
   "cell_type": "code",
   "execution_count": 31,
   "id": "678fce19",
   "metadata": {},
   "outputs": [
    {
     "data": {
      "text/plain": [
       "Text(0, 0.5, 'Ward distance')"
      ]
     },
     "execution_count": 31,
     "metadata": {},
     "output_type": "execute_result"
    },
    {
     "data": {
      "image/png": "[encoded data removed]",
      "text/plain": [
       "<Figure size 1200x800 with 1 Axes>"
      ]
     },
     "metadata": {},
     "output_type": "display_data"
    }
   ],
   "source": [
    "# Crear un dendrograma del clústering jerárquico\n",
    "plt.figure(figsize=(12,8))\n",
    "dendrogram(linked,\n",
    "           orientation = \"top\",\n",
    "           distance_sort = \"descending\",\n",
    "           show_leaf_counts = True)\n",
    "plt.title(\"Hierarchy clustering dendrogram\")\n",
    "plt.xlabel(\"Sample index\")\n",
    "plt.ylabel(\"Ward distance\")"
   ]
  },
  {
   "cell_type": "markdown",
   "id": "8360bb3c",
   "metadata": {},
   "source": [
    "### 5. Interpretación y Estrategias de Marketing basadas en los Clusters"
   ]
  },
  {
   "cell_type": "code",
   "execution_count": 78,
   "id": "e5db89bb",
   "metadata": {},
   "outputs": [
    {
     "name": "stdout",
     "output_type": "stream",
     "text": [
      "Cluster: 2\n",
      "  - Mean age: 50\n",
      "  - Mean annual income: 97.33\n",
      "  - Mean expense score:  62.00\n",
      "\n",
      "Cluster: 0\n",
      "  - Mean age: 43\n",
      "  - Mean annual income: 52.51\n",
      "  - Mean expense score:  20.17\n",
      "\n",
      "Cluster: 1\n",
      "  - Mean age: 34\n",
      "  - Mean annual income: 49.08\n",
      "  - Mean expense score:  72.20\n",
      "\n"
     ]
    }
   ],
   "source": [
    "# Escribe un loop que te permita mostrar los datos básicos de los diferentes clusters, como:\n",
    "## su edad media\n",
    "## sus ingresos medios\n",
    "## su puntuación de gastos media\n",
    "cluster_info = pd.DataFrame({\n",
    "    \"Cluster\": kmeans_clusters,\n",
    "    \"Edad\": df[\"Edad\"],\n",
    "    \"Ingresos Anuales (k$)\": df[\"Ingresos Anuales (k$)\"],\n",
    "    \"Puntuación de Gasto (1-100)\": df[\"Puntuación de Gasto (1-100)\"]\n",
    "    })\n",
    "\n",
    "edad_x = [];\n",
    "ingresos_x = [];\n",
    "puntuacion_x = [];\n",
    "for cluster in cluster_info[\"Cluster\"].unique():\n",
    "    cluster_data = cluster_info[cluster_info['Cluster'] == cluster]\n",
    "    edad_x.append(cluster_data[\"Edad\"].mean())\n",
    "    ingresos_x.append(cluster_data[\"Ingresos Anuales (k$)\"].mean())\n",
    "    puntuacion_x.append(cluster_data[\"Puntuación de Gasto (1-100)\"].mean())\n",
    "    print(f\"Cluster: {cluster}\")\n",
    "    print(f\"  - Mean age: {cluster_data[\"Edad\"].mean():.0f}\")\n",
    "    print(f\"  - Mean annual income: {cluster_data[\"Ingresos Anuales (k$)\"].mean():.2f}\")\n",
    "    print(f\"  - Mean expense score: {cluster_data[\"Puntuación de Gasto (1-100)\"].mean(): .2f}\")\n",
    "    print()\n"
   ]
  },
  {
   "cell_type": "markdown",
   "id": "5d9d4362-0699-41d2-a1f0-b90848a691df",
   "metadata": {},
   "source": [
    "# **Strategic marketing plan.**\n",
    "\n",
    "## **Abstract**\n",
    "The client data base was explored and analysed by different methods such as PCA, SDV, K-Means and Hierarchy clustering in order to propose an strategic marketing plan to improve fidelity and increase the company's sales. \\\n",
    "The data revealed three groups of clients with different expense score, annual income and mean age.\n",
    "The first group includes younger clients ~34 years old with the highest expense score. The marketing strategy should include trending and innovating products with credict card opportunities or rewards.\n",
    "The seccond gruop includes clients ~43 years old with the lowest expense escore. Marketing strategy should include fidelity plans, refferal rewards and marketing oriented to show how to get the most value from the products.\n",
    "The last group includes clients ~50 years old with the highest income and a medium expense score. The marketing plan should include premium and/or exlusive services, rewards, preordering and luxury items. \n",
    "\n",
    "\n",
    "## **1. Introduction.**\n",
    "The client requested a data analysis to know their clients according to their expenses behavior. \n",
    "The data was gathered from the yearly report in the store. Previoulsy to the elaboration of this document, the data was transformed, filtered, sorted and cropped as needed to obtain the best possible results.\n",
    "\n",
    "In the next section the groups descriptions will be detailed\n",
    "\n",
    "## **1. Group descriptions**\n",
    "According to the data analysis performed, there are three groups of clients: \\\n",
    "**1.1 First group:** \\\n",
    "  This group includes clients whos mean age is 34 years old. They have a low income and the higher expense score.\n",
    "  \n",
    "  Mean age: 34 \\\n",
    "  Mean annual income: 49.08 [kUSD] \\\n",
    "  Mean expense score:  72.20\n",
    "\n",
    "  \n",
    "**1.2. Seccond group:** \\\n",
    "  This group includes clients whos mean age is 43 years old. They have a medium income and they expend the less money compared with the other two groups.\n",
    "\n",
    "Mean age: 43 years old \\\n",
    "Mean annual income: 52.51 [kUSD] \\\n",
    "Mean expense score:  20.17\n",
    "\n",
    "\n",
    "**1.3. Third group:** \\\n",
    "  This group includes clients whos mean age is 50 years old. They have a high income and a medium expense score. \n",
    "\n",
    "Mean age: 50 \\\n",
    "Mean annual income: 97.33 [kUSD] \\\n",
    "Mean expense score:  62.00\n",
    " \n",
    "## **2. Marketing advice.**\n",
    "**2.1 First group:** \\\n",
    "The marketing strategy for this group should include trending and innovating products with credict card opportunities or rewards.\n",
    "This group should be approached via digital media and influencers with innovation/trending products.\n",
    "\n",
    "**2.2. Seccond group:** \\\n",
    "The Marketing strategy for this group should include fidelity plans, refferal rewards and marketing oriented to show how to get the most value from the products. This group should be approached via digital media, direct messages and email.\n",
    "\n",
    "**3.3. Third group:** \\\n",
    "The marketing plan should include premium and/or exlusive services, rewards, preordering and luxury items. The approach that should be used must be focus en email and traditional mailing campains as well as special magazines of luxury products.\n",
    "\n"
   ]
  },
  {
   "cell_type": "code",
   "execution_count": null,
   "id": "6c8e0713-0ef2-4262-b6b9-7d8912245db0",
   "metadata": {},
   "outputs": [],
   "source": []
  }
 ],
 "metadata": {
  "kernelspec": {
   "display_name": "Python [conda env:base] *",
   "language": "python",
   "name": "conda-base-py"
  },
  "language_info": {
   "codemirror_mode": {
    "name": "ipython",
    "version": 3
   },
   "file_extension": ".py",
   "mimetype": "text/x-python",
   "name": "python",
   "nbconvert_exporter": "python",
   "pygments_lexer": "ipython3",
   "version": "3.12.7"
  }
 },
 "nbformat": 4,
 "nbformat_minor": 5
}

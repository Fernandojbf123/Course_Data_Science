{
 "cells": [
  {
   "cell_type": "markdown",
   "id": "e9e58d8e",
   "metadata": {},
   "source": [
    "# Proyecto del Día 7 - Analizador de Ventas\n",
    "\n",
    "### Objetivo\n",
    "Crear un programa en Python que analice un conjunto de **datos de ventas de una tienda**. El programa debe realizar varias operaciones de Data Science para proporcionar información valiosa sobre las ventas de la tienda.\n",
    "\n",
    "### Consigna\n",
    "\n",
    "1. **Lectura de Datos**: Crea un DataFrame que contenga los datos provistos en el archivo **Datos_Ventas_Tienda.csv** provisto en esta lección. El archivo incluirá información como *fecha de venta*, *categoría de producto*, *cantidad vendida* y *precio*.\n",
    "2. **Fusión de Datos**: Crea un segundo DataFrame que contenga los datos del archivo **Datos_Ventas_Tienda2.csv** (también provisto en esta lección), y concaténalos para tener un solo dataFrame con toda la información.\n",
    "\n",
    "3. **Tratamiento de Datos**: Utiliza Pandas para manipular estos datos. Deberás realizar tareas como limpieza de datos, filtrado y  transformaciones básicas.\n",
    "4. **Análisis de Ventas**: Realiza análisis para responder preguntas como:\n",
    "- ¿Cuál es el producto más vendido?\n",
    "- ¿Cuál es el mes con más ventas?\n",
    "5. **Datos Agrupados**: Agrupa los datos por categoría de producto y analiza las ventas por categoría.\n",
    "6. **Guardar Resultados**: Al final, guarda el DataFrame completo (incluyendo la columna de meses) en un archivo .csv en tu ordenador."
   ]
  },
  {
   "cell_type": "code",
   "execution_count": 1,
   "id": "67cdbc0b",
   "metadata": {},
   "outputs": [],
   "source": [
    "import pandas as pd\n",
    "df1 = pd.read_csv('Datos_Ventas_Tienda.csv')\n",
    "df2 = pd.read_csv('Datos_Ventas_Tienda2.csv')"
   ]
  },
  {
   "cell_type": "code",
   "execution_count": 37,
   "id": "af1bf202-0fc0-4e35-bbbb-3255b6370d15",
   "metadata": {},
   "outputs": [
    {
     "data": {
      "text/html": [
       "<div>\n",
       "<style scoped>\n",
       "    .dataframe tbody tr th:only-of-type {\n",
       "        vertical-align: middle;\n",
       "    }\n",
       "\n",
       "    .dataframe tbody tr th {\n",
       "        vertical-align: top;\n",
       "    }\n",
       "\n",
       "    .dataframe thead th {\n",
       "        text-align: right;\n",
       "    }\n",
       "</style>\n",
       "<table border=\"1\" class=\"dataframe\">\n",
       "  <thead>\n",
       "    <tr style=\"text-align: right;\">\n",
       "      <th></th>\n",
       "      <th>Fecha</th>\n",
       "      <th>Producto</th>\n",
       "      <th>Cantidad</th>\n",
       "      <th>Precio Unitario</th>\n",
       "      <th>Total Venta</th>\n",
       "    </tr>\n",
       "  </thead>\n",
       "  <tbody>\n",
       "    <tr>\n",
       "      <th>0</th>\n",
       "      <td>1/17/2023</td>\n",
       "      <td>Electrónic</td>\n",
       "      <td>7</td>\n",
       "      <td>200</td>\n",
       "      <td>1400</td>\n",
       "    </tr>\n",
       "    <tr>\n",
       "      <th>1</th>\n",
       "      <td>9/1/2023</td>\n",
       "      <td>Electrónic</td>\n",
       "      <td>8</td>\n",
       "      <td>200</td>\n",
       "      <td>1600</td>\n",
       "    </tr>\n",
       "    <tr>\n",
       "      <th>2</th>\n",
       "      <td>7/29/2023</td>\n",
       "      <td>Juguetes</td>\n",
       "      <td>3</td>\n",
       "      <td>30</td>\n",
       "      <td>90</td>\n",
       "    </tr>\n",
       "    <tr>\n",
       "      <th>3</th>\n",
       "      <td>10/4/2023</td>\n",
       "      <td>Alimentos</td>\n",
       "      <td>4</td>\n",
       "      <td>10</td>\n",
       "      <td>40</td>\n",
       "    </tr>\n",
       "    <tr>\n",
       "      <th>4</th>\n",
       "      <td>2/28/2023</td>\n",
       "      <td>Electrónic</td>\n",
       "      <td>6</td>\n",
       "      <td>200</td>\n",
       "      <td>1200</td>\n",
       "    </tr>\n",
       "    <tr>\n",
       "      <th>...</th>\n",
       "      <td>...</td>\n",
       "      <td>...</td>\n",
       "      <td>...</td>\n",
       "      <td>...</td>\n",
       "      <td>...</td>\n",
       "    </tr>\n",
       "    <tr>\n",
       "      <th>1045</th>\n",
       "      <td>9/11/2023</td>\n",
       "      <td>Juguetes</td>\n",
       "      <td>10</td>\n",
       "      <td>30</td>\n",
       "      <td>300</td>\n",
       "    </tr>\n",
       "    <tr>\n",
       "      <th>1046</th>\n",
       "      <td>1/3/2023</td>\n",
       "      <td>Juguetes</td>\n",
       "      <td>10</td>\n",
       "      <td>30</td>\n",
       "      <td>300</td>\n",
       "    </tr>\n",
       "    <tr>\n",
       "      <th>1047</th>\n",
       "      <td>11/7/2023</td>\n",
       "      <td>Alimentos</td>\n",
       "      <td>3</td>\n",
       "      <td>10</td>\n",
       "      <td>30</td>\n",
       "    </tr>\n",
       "    <tr>\n",
       "      <th>1048</th>\n",
       "      <td>8/20/2023</td>\n",
       "      <td>Electrónic</td>\n",
       "      <td>6</td>\n",
       "      <td>200</td>\n",
       "      <td>1200</td>\n",
       "    </tr>\n",
       "    <tr>\n",
       "      <th>1049</th>\n",
       "      <td>7/21/2023</td>\n",
       "      <td>Juguetes</td>\n",
       "      <td>3</td>\n",
       "      <td>30</td>\n",
       "      <td>90</td>\n",
       "    </tr>\n",
       "  </tbody>\n",
       "</table>\n",
       "<p>1050 rows × 5 columns</p>\n",
       "</div>"
      ],
      "text/plain": [
       "          Fecha    Producto  Cantidad  Precio Unitario  Total Venta\n",
       "0     1/17/2023  Electrónic         7              200         1400\n",
       "1      9/1/2023  Electrónic         8              200         1600\n",
       "2     7/29/2023    Juguetes         3               30           90\n",
       "3     10/4/2023   Alimentos         4               10           40\n",
       "4     2/28/2023  Electrónic         6              200         1200\n",
       "...         ...         ...       ...              ...          ...\n",
       "1045  9/11/2023    Juguetes        10               30          300\n",
       "1046   1/3/2023    Juguetes        10               30          300\n",
       "1047  11/7/2023   Alimentos         3               10           30\n",
       "1048  8/20/2023  Electrónic         6              200         1200\n",
       "1049  7/21/2023    Juguetes         3               30           90\n",
       "\n",
       "[1050 rows x 5 columns]"
      ]
     },
     "execution_count": 37,
     "metadata": {},
     "output_type": "execute_result"
    }
   ],
   "source": [
    "df = pd.concat([df1,df2],ignore_index=True)\n",
    "df"
   ]
  },
  {
   "cell_type": "code",
   "execution_count": 38,
   "id": "70a730fa-998d-4af4-a12b-dfb62adb1c74",
   "metadata": {},
   "outputs": [],
   "source": [
    "df[\"Fecha\"] = pd.to_datetime(df[\"Fecha\"],format=\"%m/%d/%Y\")"
   ]
  },
  {
   "cell_type": "code",
   "execution_count": 88,
   "id": "c7051f66-92c2-4651-b0ad-5547702685ef",
   "metadata": {},
   "outputs": [],
   "source": [
    "df[\"Año\"] = df[\"Fecha\"].dt.strftime(\"%Y\").astype(int)\n",
    "df[\"Mes\"] = df[\"Fecha\"].dt.strftime(\"%m\").astype(int)"
   ]
  },
  {
   "cell_type": "code",
   "execution_count": 64,
   "id": "a19b7c9a-605b-475a-81b7-5372349e6e17",
   "metadata": {},
   "outputs": [],
   "source": [
    "df_agrupado_por_producto = df.groupby(\"Producto\")"
   ]
  },
  {
   "cell_type": "code",
   "execution_count": 140,
   "id": "7c028939-1a4f-467e-a47c-6cbf45cb027e",
   "metadata": {},
   "outputs": [
    {
     "name": "stdout",
     "output_type": "stream",
     "text": [
      "El producto más vendido es Alimentos. Se vendieron 1262 piezas de este producto\n"
     ]
    }
   ],
   "source": [
    "#¿Cuál es el producto más vendido?\n",
    "productos_mas_vendidos = df_agrupado_por_producto[\"Cantidad\"].sum().sort_values(ascending=False)\n",
    "productos_mas_vendidos\n",
    "producto_mas_vendido = productos_mas_vendidos.idxmax()\n",
    "cantidad_maxima = productos_mas_vendidos.max()\n",
    "print(f\"El producto más vendido es {producto_mas_vendido}. Se vendieron {cantidad_maxima} piezas de este producto\")"
   ]
  },
  {
   "cell_type": "code",
   "execution_count": 156,
   "id": "20723547-dcfc-49ba-a179-7a7875fb0bc8",
   "metadata": {},
   "outputs": [
    {
     "name": "stdout",
     "output_type": "stream",
     "text": [
      "El máximo de ventas fue durante el año 2023 en el mes de 8. Se vendieron 669 piezas y se generó un total de 45090 pesos\n"
     ]
    }
   ],
   "source": [
    "#¿Cuál es el mes con más ventas?\n",
    "df_agrupado_por_mes =  df.groupby([\"Año\",\"Mes\"])\n",
    "suma_de_ventas_por_mes = df_agrupado_por_mes[\"Total Venta\"].sum().sort_values(ascending=False)\n",
    "suma_de_cantidad_por_mes = df_agrupado_por_mes[\"Cantidad\"].sum().sort_values(ascending=False)\n",
    "mes_de_mas_ventas = suma_de_ventas_por_mes.idxmax()\n",
    "total_vendido = suma_de_ventas_por_mes.max()\n",
    "total_cantidad = suma_de_cantidad_por_mes.max()\n",
    "print(f\"El máximo de ventas fue durante el año {mes_de_mas_ventas[0]} en el mes de {mes_de_mas_ventas[1]}. Se vendieron {total_cantidad} piezas y se generó un total de {total_vendido} pesos\")"
   ]
  },
  {
   "cell_type": "code",
   "execution_count": 178,
   "id": "a7dbef71-1878-4f1b-abf7-1f8d65ae8de3",
   "metadata": {},
   "outputs": [
    {
     "data": {
      "text/plain": [
       "Producto\n",
       "Alimentos     1262\n",
       "Electrónic    1220\n",
       "Juguetes      1113\n",
       "Libros        1042\n",
       "Ropa          1128\n",
       "Name: Cantidad, dtype: int64"
      ]
     },
     "execution_count": 178,
     "metadata": {},
     "output_type": "execute_result"
    }
   ],
   "source": [
    "#5. **Datos Agrupados**: Agrupa los datos por categoría de producto y analiza las ventas por categoría.\n",
    "serie_total_venta = df_agrupado_por_producto[\"Total Venta\"].sum()\n",
    "serie_cantidad = df_agrupado_por_producto[\"Cantidad\"].sum()\n",
    "serie_precio_unitario = df_agrupado_por_producto[\"Precio Unitario\"].mean()"
   ]
  },
  {
   "cell_type": "code",
   "execution_count": 203,
   "id": "822ee756-bfce-42d9-b440-c4bf971e8d61",
   "metadata": {},
   "outputs": [],
   "source": [
    "df_resumen = pd.DataFrame({})\n",
    "df_resumen[\"Sum Total Venta\"] = serie_total_venta\n",
    "df_resumen[\"Sum Cantidad\"] = serie_cantidad\n",
    "df_resumen[\"Mean Precio Unitario\"] = serie_precio_unitario\n",
    "df_resumen = df_resumen.reset_index()"
   ]
  },
  {
   "cell_type": "code",
   "execution_count": 206,
   "id": "0204d03f-5ab1-4be8-8422-6484bfe70478",
   "metadata": {},
   "outputs": [],
   "source": [
    "#6. **Guardar Resultados**: Al final, guarda el DataFrame completo (incluyendo la columna de meses) en un archivo .csv en tu ordenador.\n",
    "df_resumen.to_csv('Resumen_ventas.csv',index=False)"
   ]
  },
  {
   "cell_type": "code",
   "execution_count": 207,
   "id": "78aac9de-a3a1-4551-981b-d5bbae566023",
   "metadata": {},
   "outputs": [],
   "source": [
    "df_resumen.to_excel('Resumen_ventas.xlsx',index=False)"
   ]
  },
  {
   "cell_type": "code",
   "execution_count": null,
   "id": "3157cfcc-f3ca-4c66-bec5-b7c0a42a99c0",
   "metadata": {},
   "outputs": [],
   "source": []
  }
 ],
 "metadata": {
  "kernelspec": {
   "display_name": "Python [conda env:base] *",
   "language": "python",
   "name": "conda-base-py"
  },
  "language_info": {
   "codemirror_mode": {
    "name": "ipython",
    "version": 3
   },
   "file_extension": ".py",
   "mimetype": "text/x-python",
   "name": "python",
   "nbconvert_exporter": "python",
   "pygments_lexer": "ipython3",
   "version": "3.12.7"
  }
 },
 "nbformat": 4,
 "nbformat_minor": 5
}
